{
 "cells": [
  {
   "cell_type": "code",
   "execution_count": 1,
   "id": "c022b876",
   "metadata": {},
   "outputs": [],
   "source": [
    "import pandas as pd\n",
    "import numpy as np\n",
    "import re\n",
    "import warnings\n",
    "warnings.filterwarnings(\"ignore\")\n",
    "from bs4 import BeautifulSoup\n",
    "import requests"
   ]
  },
  {
   "cell_type": "code",
   "execution_count": 2,
   "id": "0c24e115",
   "metadata": {},
   "outputs": [],
   "source": [
    "from selenium import webdriver"
   ]
  },
  {
   "cell_type": "code",
   "execution_count": 3,
   "id": "9706a318",
   "metadata": {},
   "outputs": [],
   "source": [
    " url=\"https://collegedunia.com/engineering-colleges\""
   ]
  },
  {
   "cell_type": "code",
   "execution_count": 4,
   "id": "a84b9376",
   "metadata": {},
   "outputs": [],
   "source": [
    "response=requests.get(url)"
   ]
  },
  {
   "cell_type": "code",
   "execution_count": 5,
   "id": "ab921bd3",
   "metadata": {},
   "outputs": [
    {
     "data": {
      "text/plain": [
       "403"
      ]
     },
     "execution_count": 5,
     "metadata": {},
     "output_type": "execute_result"
    }
   ],
   "source": [
    "response.status_code"
   ]
  },
  {
   "cell_type": "code",
   "execution_count": 6,
   "id": "03f293ce",
   "metadata": {},
   "outputs": [],
   "source": [
    "driver = webdriver.Chrome(r\"C:\\Users\\ADMIN\\Downloads\\chromedriver_win32\\chromedriver.exe\")"
   ]
  },
  {
   "cell_type": "code",
   "execution_count": 7,
   "id": "ac816d87",
   "metadata": {},
   "outputs": [],
   "source": [
    "list1 = [\"chennai\",\"Hyderabad\",\"Pune\",\"Coimbatore\",\"Bangalore\",\"Mumbai\",\"Bhopal\",\"Jaipur\",\"Lucknow\",\"Thiruvananthapuram\",\"Kolkata\",\"Ahmedabad\",\"Nagpur\",\"Bhubaneswar\",\"Indore\",\"Guntur\"]"
   ]
  },
  {
   "cell_type": "markdown",
   "id": "649d832d",
   "metadata": {},
   "source": [
    "### Collecting the data by using webscraping  technic by Selenium (webdriver)"
   ]
  },
  {
   "cell_type": "code",
   "execution_count": 86,
   "id": "33117f2b",
   "metadata": {},
   "outputs": [
    {
     "name": "stdout",
     "output_type": "stream",
     "text": [
      "https://collegedunia.com/engineering/chennai-colleges\n",
      "https://collegedunia.com/engineering/Hyderabad-colleges\n",
      "https://collegedunia.com/engineering/Pune-colleges\n",
      "https://collegedunia.com/engineering/Coimbatore-colleges\n",
      "https://collegedunia.com/engineering/Bangalore-colleges\n",
      "https://collegedunia.com/engineering/Mumbai-colleges\n",
      "https://collegedunia.com/engineering/Bhopal-colleges\n",
      "https://collegedunia.com/engineering/Jaipur-colleges\n",
      "https://collegedunia.com/engineering/Lucknow-colleges\n",
      "https://collegedunia.com/engineering/Thiruvananthapuram-colleges\n",
      "https://collegedunia.com/engineering/Kolkata-colleges\n",
      "https://collegedunia.com/engineering/Ahmedabad-colleges\n",
      "https://collegedunia.com/engineering/Nagpur-colleges\n",
      "https://collegedunia.com/engineering/Bhubaneswar-colleges\n",
      "https://collegedunia.com/engineering/Indore-colleges\n",
      "https://collegedunia.com/engineering/Guntur-colleges\n"
     ]
    }
   ],
   "source": [
    "col=[]\n",
    "loc=[]\n",
    "state=[]\n",
    "stream=[]\n",
    "rating=[]\n",
    "reviews=[]\n",
    "course_fee=[]\n",
    "\n",
    "for i in list1:\n",
    "    url=f\"https://collegedunia.com/engineering/{i}-colleges\"\n",
    "    print(url)\n",
    "    driver = webdriver.Chrome(r\"C:\\Users\\ADMIN\\Downloads\\chromedriver_win32\\chromedriver.exe\")\n",
    "    driver.get(url)\n",
    "    soup = BeautifulSoup(driver.page_source,'html.parser')\n",
    "    driver.close()\n",
    "    container=soup.find_all(\"tr\",class_=\"jsx-2257997354 table-row even\" )\n",
    "    for i in container:\n",
    "        b=i.find(\"h3\",class_=\"jsx-2257997354 font-weight-medium text-lg mb-0\")\n",
    "        regex=re.findall(\"(.*),\\s\\w+\",b.text)\n",
    "        if regex :\n",
    "            col.append(regex[0])    \n",
    "        else:\n",
    "            col.append(np.nan)\n",
    "        regex=re.findall(\".*,\\s(\\w+)\",b.text)\n",
    "        if regex :\n",
    "            loc.append(regex[0])\n",
    "        else:\n",
    "            loc.append(np.nan)\n",
    "    for i in container:\n",
    "        c=i.find(\"span\",class_=\"jsx-2257997354 text-lg text-green d-block font-weight-bold mb-1\")\n",
    "        course_fee.append(c.text)\n",
    "    for i in container:\n",
    "        d=soup.find(\"span\", class_=\"jsx-2257997354 pr-1 location\")\n",
    "        regex=re.findall(\"\\,(.*)\",d.text)\n",
    "        if regex:\n",
    "            state.append(regex[0])\n",
    "        else:\n",
    "            state.append(np.nan)\n",
    "    for i in container:\n",
    "        e=soup.find(\"span\", class_=\"jsx-2257997354 lr-key text-lg text-primary d-block font-weight-medium mb-1\")\n",
    "        if e:\n",
    "            regex=re.findall(\"(\\d\\.?\\d?)\\s\\/\\s\",e.text)\n",
    "            if regex:\n",
    "                rating.append(regex[0])\n",
    "            else:\n",
    "                rating.append(np.nan)\n",
    "        else:\n",
    "            rating.append(np.nan)\n",
    "    for i in container:\n",
    "        f=soup.find(\"span\", class_=\"jsx-2257997354 lr-value d-block font-weight-medium text-sm\")\n",
    "        if f:\n",
    "            regex=re.findall(\"\\d+\",f.text)\n",
    "            if regex:\n",
    "                reviews.append(regex[0])\n",
    "            else:\n",
    "                reviews.append(np.nan)\n",
    "        else:\n",
    "            reviews.append(np.nan)\n",
    "    for i in container:\n",
    "        g=i.find(\"td\",class_=\"jsx-2257997354 col-fees\")\n",
    "        if g:\n",
    "            text=g.text\n",
    "            regex=re.findall(\"[0-9,]+(.*)-\",text)\n",
    "            if regex:\n",
    "                stream.append(regex[0])\n",
    "            else:\n",
    "                stream.append(np.nan)\n",
    "        else:\n",
    "            stream.append(np.nan)\n",
    "\n",
    "            \n",
    "    container1=soup.find_all(\"tr\",class_=\"jsx-2257997354 table-row odd\" )\n",
    "    for i in container1:\n",
    "        b=i.find(\"h3\",class_=\"jsx-2257997354 font-weight-medium text-lg mb-0\")\n",
    "        regex=re.findall(\"(.*),\\s\\w+\",b.text)\n",
    "        if regex :\n",
    "            col.append(regex[0])    \n",
    "        else:\n",
    "            col.append(np.nan)\n",
    "        regex=re.findall(\".*,\\s(\\w+)\",b.text)\n",
    "        if regex :\n",
    "            loc.append(regex1[0])\n",
    "        else:\n",
    "            loc.append(np.nan)\n",
    "    for i in container1:\n",
    "        c=i.find(\"span\",class_=\"jsx-2257997354 text-lg text-green d-block font-weight-bold mb-1\")\n",
    "        course_fee.append(c.text)\n",
    "    for i in container1:\n",
    "        d=soup.find(\"span\", class_=\"jsx-2257997354 pr-1 location\")\n",
    "        regex=re.findall(\"\\,(.*)\",d.text)\n",
    "        if regex:\n",
    "            state.append(regex[0])\n",
    "        else:\n",
    "            state.append(np.nan)\n",
    "    for i in container1:\n",
    "        e=soup.find(\"span\", class_=\"jsx-2257997354 lr-key text-lg text-primary d-block font-weight-medium mb-1\")\n",
    "        if e:\n",
    "            regex=re.findall(\"(\\d\\.?\\d?)\\s\\/\\s\",e.text)\n",
    "            if regex:\n",
    "                rating.append(regex[0])\n",
    "            else:\n",
    "                rating.append(np.nan)\n",
    "        else:\n",
    "            rating.append(np.nan)\n",
    "    for i in container1:\n",
    "        f=soup.find(\"span\", class_=\"jsx-2257997354 lr-value d-block font-weight-medium text-sm\")\n",
    "        if f:\n",
    "            regex=re.findall(\"\\d+\",f.text)\n",
    "            if regex:\n",
    "                reviews.append(regex[0])\n",
    "            else:\n",
    "                reviews.append(np.nan)\n",
    "        else:\n",
    "            reviews.append(np.nan)\n",
    "    for i in container1:\n",
    "        g=i.find(\"td\",class_=\"jsx-2257997354 col-fees\")\n",
    "        if f:\n",
    "            text=g.text\n",
    "            regex=re.findall(\"[0-9,]+(.*)-\",text)\n",
    "            if regex:\n",
    "                stream.append(regex[0])\n",
    "            else:\n",
    "                stream.append(np.nan)\n",
    "        else:\n",
    "            stream.append(np.nan)"
   ]
  },
  {
   "cell_type": "code",
   "execution_count": 87,
   "id": "68a4ba0e",
   "metadata": {},
   "outputs": [
    {
     "data": {
      "text/plain": [
       "449"
      ]
     },
     "execution_count": 87,
     "metadata": {},
     "output_type": "execute_result"
    }
   ],
   "source": [
    "len(col)"
   ]
  },
  {
   "cell_type": "code",
   "execution_count": 88,
   "id": "b9d4bd1b",
   "metadata": {},
   "outputs": [
    {
     "data": {
      "text/plain": [
       "449"
      ]
     },
     "execution_count": 88,
     "metadata": {},
     "output_type": "execute_result"
    }
   ],
   "source": [
    "len(loc)"
   ]
  },
  {
   "cell_type": "code",
   "execution_count": 89,
   "id": "68053dbf",
   "metadata": {},
   "outputs": [
    {
     "data": {
      "text/plain": [
       "449"
      ]
     },
     "execution_count": 89,
     "metadata": {},
     "output_type": "execute_result"
    }
   ],
   "source": [
    "len(state)"
   ]
  },
  {
   "cell_type": "code",
   "execution_count": 90,
   "id": "4c4d1d2b",
   "metadata": {},
   "outputs": [
    {
     "data": {
      "text/plain": [
       "449"
      ]
     },
     "execution_count": 90,
     "metadata": {},
     "output_type": "execute_result"
    }
   ],
   "source": [
    "len(reviews)"
   ]
  },
  {
   "cell_type": "code",
   "execution_count": 91,
   "id": "3785ec28",
   "metadata": {},
   "outputs": [
    {
     "data": {
      "text/plain": [
       "449"
      ]
     },
     "execution_count": 91,
     "metadata": {},
     "output_type": "execute_result"
    }
   ],
   "source": [
    "len(course_fee)"
   ]
  },
  {
   "cell_type": "code",
   "execution_count": 68,
   "id": "e744a689",
   "metadata": {},
   "outputs": [
    {
     "data": {
      "text/plain": [
       "449"
      ]
     },
     "execution_count": 68,
     "metadata": {},
     "output_type": "execute_result"
    }
   ],
   "source": [
    "len(stream)"
   ]
  },
  {
   "cell_type": "code",
   "execution_count": 70,
   "id": "0975528b",
   "metadata": {},
   "outputs": [
    {
     "data": {
      "text/plain": [
       "449"
      ]
     },
     "execution_count": 70,
     "metadata": {},
     "output_type": "execute_result"
    }
   ],
   "source": [
    "len(col)\n",
    "len(loc)\n",
    "len(state)\n",
    "len(reviews)\n",
    "len(rating)\n",
    "len(stream)\n",
    "len(course_fee)"
   ]
  },
  {
   "cell_type": "markdown",
   "id": "f3adfd3c",
   "metadata": {},
   "source": [
    "### Create the DataFrame by using pandas ."
   ]
  },
  {
   "cell_type": "code",
   "execution_count": 99,
   "id": "787249f1",
   "metadata": {},
   "outputs": [],
   "source": [
    "dfcoll=pd.DataFrame({\"College_Name\":col , \"Location\":loc,\"State\":state,\n",
    "              \"Course\":stream,\"Rating\":rating,\"Reviews\":reviews,\"Course_Fee\":course_fee})"
   ]
  },
  {
   "cell_type": "code",
   "execution_count": 100,
   "id": "6b9115a7",
   "metadata": {},
   "outputs": [
    {
     "data": {
      "text/html": [
       "<div>\n",
       "<style scoped>\n",
       "    .dataframe tbody tr th:only-of-type {\n",
       "        vertical-align: middle;\n",
       "    }\n",
       "\n",
       "    .dataframe tbody tr th {\n",
       "        vertical-align: top;\n",
       "    }\n",
       "\n",
       "    .dataframe thead th {\n",
       "        text-align: right;\n",
       "    }\n",
       "</style>\n",
       "<table border=\"1\" class=\"dataframe\">\n",
       "  <thead>\n",
       "    <tr style=\"text-align: right;\">\n",
       "      <th></th>\n",
       "      <th>College_Name</th>\n",
       "      <th>Location</th>\n",
       "      <th>State</th>\n",
       "      <th>Course</th>\n",
       "      <th>Rating</th>\n",
       "      <th>Reviews</th>\n",
       "      <th>Course_Fee</th>\n",
       "    </tr>\n",
       "  </thead>\n",
       "  <tbody>\n",
       "    <tr>\n",
       "      <th>0</th>\n",
       "      <td>IIT Madras - Indian Institute of Technology - ...</td>\n",
       "      <td>Chennai</td>\n",
       "      <td>Tamil Nadu</td>\n",
       "      <td>BE/B.Tech</td>\n",
       "      <td>8.7</td>\n",
       "      <td>246</td>\n",
       "      <td>₹ 2,09,550</td>\n",
       "    </tr>\n",
       "    <tr>\n",
       "      <th>1</th>\n",
       "      <td>Indian Maritime University - [IMU]</td>\n",
       "      <td>Chennai</td>\n",
       "      <td>Tamil Nadu</td>\n",
       "      <td>BE/B.Tech</td>\n",
       "      <td>8.7</td>\n",
       "      <td>246</td>\n",
       "      <td>₹ 1,05,000</td>\n",
       "    </tr>\n",
       "    <tr>\n",
       "      <th>2</th>\n",
       "      <td>Saveetha Engineering College - [SEC]</td>\n",
       "      <td>Chennai</td>\n",
       "      <td>Tamil Nadu</td>\n",
       "      <td>BE/B.Tech</td>\n",
       "      <td>8.7</td>\n",
       "      <td>246</td>\n",
       "      <td>₹ 85,000</td>\n",
       "    </tr>\n",
       "    <tr>\n",
       "      <th>3</th>\n",
       "      <td>B.S. Abdur Rahman Crescent Institute of Scienc...</td>\n",
       "      <td>Chennai</td>\n",
       "      <td>Tamil Nadu</td>\n",
       "      <td>BE/B.Tech</td>\n",
       "      <td>8.7</td>\n",
       "      <td>246</td>\n",
       "      <td>₹ 85,000</td>\n",
       "    </tr>\n",
       "    <tr>\n",
       "      <th>4</th>\n",
       "      <td>Saveetha School of Engineering - [SSE]</td>\n",
       "      <td>Chennai</td>\n",
       "      <td>Tamil Nadu</td>\n",
       "      <td>BE/B.Tech</td>\n",
       "      <td>8.7</td>\n",
       "      <td>246</td>\n",
       "      <td>₹ 45,000</td>\n",
       "    </tr>\n",
       "    <tr>\n",
       "      <th>...</th>\n",
       "      <td>...</td>\n",
       "      <td>...</td>\n",
       "      <td>...</td>\n",
       "      <td>...</td>\n",
       "      <td>...</td>\n",
       "      <td>...</td>\n",
       "      <td>...</td>\n",
       "    </tr>\n",
       "    <tr>\n",
       "      <th>444</th>\n",
       "      <td>Chintalapudi Engineering College - [CECG]</td>\n",
       "      <td>Guntur</td>\n",
       "      <td>Andhra Pradesh</td>\n",
       "      <td>BE/B.Tech</td>\n",
       "      <td>8.3</td>\n",
       "      <td>489</td>\n",
       "      <td>₹ 35,000</td>\n",
       "    </tr>\n",
       "    <tr>\n",
       "      <th>445</th>\n",
       "      <td>Vignan's Lara Institute of Technology &amp; Scienc...</td>\n",
       "      <td>Guntur</td>\n",
       "      <td>Andhra Pradesh</td>\n",
       "      <td>BE/B.Tech</td>\n",
       "      <td>8.3</td>\n",
       "      <td>489</td>\n",
       "      <td>₹ 76,000</td>\n",
       "    </tr>\n",
       "    <tr>\n",
       "      <th>446</th>\n",
       "      <td>Newton's  Institute of Engineering - [NIE]</td>\n",
       "      <td>Guntur</td>\n",
       "      <td>Andhra Pradesh</td>\n",
       "      <td>NaN</td>\n",
       "      <td>8.3</td>\n",
       "      <td>489</td>\n",
       "      <td>--</td>\n",
       "    </tr>\n",
       "    <tr>\n",
       "      <th>447</th>\n",
       "      <td>Velaga Nageswara Rao College of Engineering - ...</td>\n",
       "      <td>Guntur</td>\n",
       "      <td>Andhra Pradesh</td>\n",
       "      <td>BE/B.Tech</td>\n",
       "      <td>8.3</td>\n",
       "      <td>489</td>\n",
       "      <td>₹ 35,000</td>\n",
       "    </tr>\n",
       "    <tr>\n",
       "      <th>448</th>\n",
       "      <td>G V R &amp; S College of Engineering &amp; Technology ...</td>\n",
       "      <td>Guntur</td>\n",
       "      <td>Andhra Pradesh</td>\n",
       "      <td>BE/B.Tech</td>\n",
       "      <td>8.3</td>\n",
       "      <td>489</td>\n",
       "      <td>₹ 50,200</td>\n",
       "    </tr>\n",
       "  </tbody>\n",
       "</table>\n",
       "<p>449 rows × 7 columns</p>\n",
       "</div>"
      ],
      "text/plain": [
       "                                          College_Name Location  \\\n",
       "0    IIT Madras - Indian Institute of Technology - ...  Chennai   \n",
       "1                   Indian Maritime University - [IMU]  Chennai   \n",
       "2                 Saveetha Engineering College - [SEC]  Chennai   \n",
       "3    B.S. Abdur Rahman Crescent Institute of Scienc...  Chennai   \n",
       "4               Saveetha School of Engineering - [SSE]  Chennai   \n",
       "..                                                 ...      ...   \n",
       "444          Chintalapudi Engineering College - [CECG]   Guntur   \n",
       "445  Vignan's Lara Institute of Technology & Scienc...   Guntur   \n",
       "446         Newton's  Institute of Engineering - [NIE]   Guntur   \n",
       "447  Velaga Nageswara Rao College of Engineering - ...   Guntur   \n",
       "448  G V R & S College of Engineering & Technology ...   Guntur   \n",
       "\n",
       "               State     Course Rating Reviews  Course_Fee  \n",
       "0         Tamil Nadu  BE/B.Tech    8.7     246  ₹ 2,09,550  \n",
       "1         Tamil Nadu  BE/B.Tech    8.7     246  ₹ 1,05,000  \n",
       "2         Tamil Nadu  BE/B.Tech    8.7     246    ₹ 85,000  \n",
       "3         Tamil Nadu  BE/B.Tech    8.7     246    ₹ 85,000  \n",
       "4         Tamil Nadu  BE/B.Tech    8.7     246    ₹ 45,000  \n",
       "..               ...        ...    ...     ...         ...  \n",
       "444   Andhra Pradesh  BE/B.Tech    8.3     489    ₹ 35,000  \n",
       "445   Andhra Pradesh  BE/B.Tech    8.3     489    ₹ 76,000  \n",
       "446   Andhra Pradesh        NaN    8.3     489          --  \n",
       "447   Andhra Pradesh  BE/B.Tech    8.3     489    ₹ 35,000  \n",
       "448   Andhra Pradesh  BE/B.Tech    8.3     489    ₹ 50,200  \n",
       "\n",
       "[449 rows x 7 columns]"
      ]
     },
     "execution_count": 100,
     "metadata": {},
     "output_type": "execute_result"
    }
   ],
   "source": [
    "dfcoll"
   ]
  },
  {
   "cell_type": "markdown",
   "id": "fae6d401",
   "metadata": {},
   "source": [
    "### Upload DataFrame  into the Csv file  "
   ]
  },
  {
   "cell_type": "code",
   "execution_count": 22,
   "id": "6270ab83",
   "metadata": {},
   "outputs": [],
   "source": [
    "dfcoll.to_csv(\"EDA_Project.csv\")"
   ]
  },
  {
   "cell_type": "markdown",
   "id": "4f0ca317",
   "metadata": {},
   "source": [
    "### Read the Csv_ file by using pandas"
   ]
  },
  {
   "cell_type": "code",
   "execution_count": 8,
   "id": "1f367d61",
   "metadata": {},
   "outputs": [],
   "source": [
    "dfcol=pd.read_csv(\"EDA_project.csv\")"
   ]
  },
  {
   "cell_type": "code",
   "execution_count": 9,
   "id": "bdcfe9d2",
   "metadata": {},
   "outputs": [
    {
     "data": {
      "text/html": [
       "<div>\n",
       "<style scoped>\n",
       "    .dataframe tbody tr th:only-of-type {\n",
       "        vertical-align: middle;\n",
       "    }\n",
       "\n",
       "    .dataframe tbody tr th {\n",
       "        vertical-align: top;\n",
       "    }\n",
       "\n",
       "    .dataframe thead th {\n",
       "        text-align: right;\n",
       "    }\n",
       "</style>\n",
       "<table border=\"1\" class=\"dataframe\">\n",
       "  <thead>\n",
       "    <tr style=\"text-align: right;\">\n",
       "      <th></th>\n",
       "      <th>Unnamed: 0</th>\n",
       "      <th>College_Name</th>\n",
       "      <th>Location</th>\n",
       "      <th>State</th>\n",
       "      <th>Course</th>\n",
       "      <th>Rating</th>\n",
       "      <th>Reviews</th>\n",
       "      <th>Course_Fee</th>\n",
       "    </tr>\n",
       "  </thead>\n",
       "  <tbody>\n",
       "    <tr>\n",
       "      <th>0</th>\n",
       "      <td>0</td>\n",
       "      <td>IIT Madras - Indian Institute of Technology - ...</td>\n",
       "      <td>Chennai</td>\n",
       "      <td>Tamil Nadu</td>\n",
       "      <td>BE/B.Tech</td>\n",
       "      <td>8.7</td>\n",
       "      <td>246</td>\n",
       "      <td>₹ 2,09,550</td>\n",
       "    </tr>\n",
       "    <tr>\n",
       "      <th>1</th>\n",
       "      <td>1</td>\n",
       "      <td>Indian Maritime University - [IMU]</td>\n",
       "      <td>Chennai</td>\n",
       "      <td>Tamil Nadu</td>\n",
       "      <td>BE/B.Tech</td>\n",
       "      <td>8.7</td>\n",
       "      <td>246</td>\n",
       "      <td>₹ 1,05,000</td>\n",
       "    </tr>\n",
       "    <tr>\n",
       "      <th>2</th>\n",
       "      <td>2</td>\n",
       "      <td>Saveetha Engineering College - [SEC]</td>\n",
       "      <td>Chennai</td>\n",
       "      <td>Tamil Nadu</td>\n",
       "      <td>BE/B.Tech</td>\n",
       "      <td>8.7</td>\n",
       "      <td>246</td>\n",
       "      <td>₹ 85,000</td>\n",
       "    </tr>\n",
       "    <tr>\n",
       "      <th>3</th>\n",
       "      <td>3</td>\n",
       "      <td>B.S. Abdur Rahman Crescent Institute of Scienc...</td>\n",
       "      <td>Chennai</td>\n",
       "      <td>Tamil Nadu</td>\n",
       "      <td>BE/B.Tech</td>\n",
       "      <td>8.7</td>\n",
       "      <td>246</td>\n",
       "      <td>₹ 85,000</td>\n",
       "    </tr>\n",
       "    <tr>\n",
       "      <th>4</th>\n",
       "      <td>4</td>\n",
       "      <td>Saveetha School of Engineering - [SSE]</td>\n",
       "      <td>Chennai</td>\n",
       "      <td>Tamil Nadu</td>\n",
       "      <td>BE/B.Tech</td>\n",
       "      <td>8.7</td>\n",
       "      <td>246</td>\n",
       "      <td>₹ 45,000</td>\n",
       "    </tr>\n",
       "    <tr>\n",
       "      <th>...</th>\n",
       "      <td>...</td>\n",
       "      <td>...</td>\n",
       "      <td>...</td>\n",
       "      <td>...</td>\n",
       "      <td>...</td>\n",
       "      <td>...</td>\n",
       "      <td>...</td>\n",
       "      <td>...</td>\n",
       "    </tr>\n",
       "    <tr>\n",
       "      <th>444</th>\n",
       "      <td>444</td>\n",
       "      <td>Chintalapudi Engineering College - [CECG]</td>\n",
       "      <td>Guntur</td>\n",
       "      <td>Andhra Pradesh</td>\n",
       "      <td>BE/B.Tech</td>\n",
       "      <td>8.3</td>\n",
       "      <td>489</td>\n",
       "      <td>₹ 35,000</td>\n",
       "    </tr>\n",
       "    <tr>\n",
       "      <th>445</th>\n",
       "      <td>445</td>\n",
       "      <td>Vignan's Lara Institute of Technology &amp; Scienc...</td>\n",
       "      <td>Guntur</td>\n",
       "      <td>Andhra Pradesh</td>\n",
       "      <td>BE/B.Tech</td>\n",
       "      <td>8.3</td>\n",
       "      <td>489</td>\n",
       "      <td>₹ 76,000</td>\n",
       "    </tr>\n",
       "    <tr>\n",
       "      <th>446</th>\n",
       "      <td>446</td>\n",
       "      <td>Newton's  Institute of Engineering - [NIE]</td>\n",
       "      <td>Guntur</td>\n",
       "      <td>Andhra Pradesh</td>\n",
       "      <td>NaN</td>\n",
       "      <td>8.3</td>\n",
       "      <td>489</td>\n",
       "      <td>NaN</td>\n",
       "    </tr>\n",
       "    <tr>\n",
       "      <th>447</th>\n",
       "      <td>447</td>\n",
       "      <td>Velaga Nageswara Rao College of Engineering - ...</td>\n",
       "      <td>Guntur</td>\n",
       "      <td>Andhra Pradesh</td>\n",
       "      <td>BE/B.Tech</td>\n",
       "      <td>8.3</td>\n",
       "      <td>489</td>\n",
       "      <td>₹ 35,000</td>\n",
       "    </tr>\n",
       "    <tr>\n",
       "      <th>448</th>\n",
       "      <td>448</td>\n",
       "      <td>G V R &amp; S College of Engineering &amp; Technology ...</td>\n",
       "      <td>Guntur</td>\n",
       "      <td>Andhra Pradesh</td>\n",
       "      <td>BE/B.Tech</td>\n",
       "      <td>8.3</td>\n",
       "      <td>489</td>\n",
       "      <td>₹ 50,200</td>\n",
       "    </tr>\n",
       "  </tbody>\n",
       "</table>\n",
       "<p>449 rows × 8 columns</p>\n",
       "</div>"
      ],
      "text/plain": [
       "     Unnamed: 0                                       College_Name Location  \\\n",
       "0             0  IIT Madras - Indian Institute of Technology - ...  Chennai   \n",
       "1             1                 Indian Maritime University - [IMU]  Chennai   \n",
       "2             2               Saveetha Engineering College - [SEC]  Chennai   \n",
       "3             3  B.S. Abdur Rahman Crescent Institute of Scienc...  Chennai   \n",
       "4             4             Saveetha School of Engineering - [SSE]  Chennai   \n",
       "..          ...                                                ...      ...   \n",
       "444         444          Chintalapudi Engineering College - [CECG]   Guntur   \n",
       "445         445  Vignan's Lara Institute of Technology & Scienc...   Guntur   \n",
       "446         446         Newton's  Institute of Engineering - [NIE]   Guntur   \n",
       "447         447  Velaga Nageswara Rao College of Engineering - ...   Guntur   \n",
       "448         448  G V R & S College of Engineering & Technology ...   Guntur   \n",
       "\n",
       "               State     Course  Rating  Reviews  Course_Fee  \n",
       "0         Tamil Nadu  BE/B.Tech     8.7      246  ₹ 2,09,550  \n",
       "1         Tamil Nadu  BE/B.Tech     8.7      246  ₹ 1,05,000  \n",
       "2         Tamil Nadu  BE/B.Tech     8.7      246    ₹ 85,000  \n",
       "3         Tamil Nadu  BE/B.Tech     8.7      246    ₹ 85,000  \n",
       "4         Tamil Nadu  BE/B.Tech     8.7      246    ₹ 45,000  \n",
       "..               ...        ...     ...      ...         ...  \n",
       "444   Andhra Pradesh  BE/B.Tech     8.3      489    ₹ 35,000  \n",
       "445   Andhra Pradesh  BE/B.Tech     8.3      489    ₹ 76,000  \n",
       "446   Andhra Pradesh        NaN     8.3      489         NaN  \n",
       "447   Andhra Pradesh  BE/B.Tech     8.3      489    ₹ 35,000  \n",
       "448   Andhra Pradesh  BE/B.Tech     8.3      489    ₹ 50,200  \n",
       "\n",
       "[449 rows x 8 columns]"
      ]
     },
     "execution_count": 9,
     "metadata": {},
     "output_type": "execute_result"
    }
   ],
   "source": [
    "dfcol"
   ]
  },
  {
   "cell_type": "code",
   "execution_count": 10,
   "id": "d393dadf",
   "metadata": {},
   "outputs": [
    {
     "data": {
      "text/plain": [
       "Index(['Unnamed: 0', 'College_Name', 'Location', 'State', 'Course', 'Rating',\n",
       "       'Reviews', 'Course_Fee'],\n",
       "      dtype='object')"
      ]
     },
     "execution_count": 10,
     "metadata": {},
     "output_type": "execute_result"
    }
   ],
   "source": [
    "dfcol.columns"
   ]
  },
  {
   "cell_type": "markdown",
   "id": "1d79ca3d",
   "metadata": {},
   "source": [
    "### Remove the unwanted columns by using reindex function"
   ]
  },
  {
   "cell_type": "code",
   "execution_count": 11,
   "id": "7c4ac7b3",
   "metadata": {},
   "outputs": [],
   "source": [
    "dfcol=dfcol.reindex(columns=['College_Name', 'Location', 'State', 'Course', 'Rating',\n",
    "       'Reviews', 'Course_Fee'],)"
   ]
  },
  {
   "cell_type": "code",
   "execution_count": 12,
   "id": "ce2fe055",
   "metadata": {},
   "outputs": [],
   "source": [
    "dfcol.columns=['College_Name', 'Location', 'State', 'Course', 'Rating',\n",
    "       'No of Reviews', 'Course_Fee']"
   ]
  },
  {
   "cell_type": "code",
   "execution_count": 13,
   "id": "096cf820",
   "metadata": {},
   "outputs": [
    {
     "data": {
      "text/html": [
       "<div>\n",
       "<style scoped>\n",
       "    .dataframe tbody tr th:only-of-type {\n",
       "        vertical-align: middle;\n",
       "    }\n",
       "\n",
       "    .dataframe tbody tr th {\n",
       "        vertical-align: top;\n",
       "    }\n",
       "\n",
       "    .dataframe thead th {\n",
       "        text-align: right;\n",
       "    }\n",
       "</style>\n",
       "<table border=\"1\" class=\"dataframe\">\n",
       "  <thead>\n",
       "    <tr style=\"text-align: right;\">\n",
       "      <th></th>\n",
       "      <th>College_Name</th>\n",
       "      <th>Location</th>\n",
       "      <th>State</th>\n",
       "      <th>Course</th>\n",
       "      <th>Rating</th>\n",
       "      <th>No of Reviews</th>\n",
       "      <th>Course_Fee</th>\n",
       "    </tr>\n",
       "  </thead>\n",
       "  <tbody>\n",
       "    <tr>\n",
       "      <th>0</th>\n",
       "      <td>IIT Madras - Indian Institute of Technology - ...</td>\n",
       "      <td>Chennai</td>\n",
       "      <td>Tamil Nadu</td>\n",
       "      <td>BE/B.Tech</td>\n",
       "      <td>8.7</td>\n",
       "      <td>246</td>\n",
       "      <td>₹ 2,09,550</td>\n",
       "    </tr>\n",
       "    <tr>\n",
       "      <th>1</th>\n",
       "      <td>Indian Maritime University - [IMU]</td>\n",
       "      <td>Chennai</td>\n",
       "      <td>Tamil Nadu</td>\n",
       "      <td>BE/B.Tech</td>\n",
       "      <td>8.7</td>\n",
       "      <td>246</td>\n",
       "      <td>₹ 1,05,000</td>\n",
       "    </tr>\n",
       "    <tr>\n",
       "      <th>2</th>\n",
       "      <td>Saveetha Engineering College - [SEC]</td>\n",
       "      <td>Chennai</td>\n",
       "      <td>Tamil Nadu</td>\n",
       "      <td>BE/B.Tech</td>\n",
       "      <td>8.7</td>\n",
       "      <td>246</td>\n",
       "      <td>₹ 85,000</td>\n",
       "    </tr>\n",
       "    <tr>\n",
       "      <th>3</th>\n",
       "      <td>B.S. Abdur Rahman Crescent Institute of Scienc...</td>\n",
       "      <td>Chennai</td>\n",
       "      <td>Tamil Nadu</td>\n",
       "      <td>BE/B.Tech</td>\n",
       "      <td>8.7</td>\n",
       "      <td>246</td>\n",
       "      <td>₹ 85,000</td>\n",
       "    </tr>\n",
       "    <tr>\n",
       "      <th>4</th>\n",
       "      <td>Saveetha School of Engineering - [SSE]</td>\n",
       "      <td>Chennai</td>\n",
       "      <td>Tamil Nadu</td>\n",
       "      <td>BE/B.Tech</td>\n",
       "      <td>8.7</td>\n",
       "      <td>246</td>\n",
       "      <td>₹ 45,000</td>\n",
       "    </tr>\n",
       "    <tr>\n",
       "      <th>...</th>\n",
       "      <td>...</td>\n",
       "      <td>...</td>\n",
       "      <td>...</td>\n",
       "      <td>...</td>\n",
       "      <td>...</td>\n",
       "      <td>...</td>\n",
       "      <td>...</td>\n",
       "    </tr>\n",
       "    <tr>\n",
       "      <th>444</th>\n",
       "      <td>Chintalapudi Engineering College - [CECG]</td>\n",
       "      <td>Guntur</td>\n",
       "      <td>Andhra Pradesh</td>\n",
       "      <td>BE/B.Tech</td>\n",
       "      <td>8.3</td>\n",
       "      <td>489</td>\n",
       "      <td>₹ 35,000</td>\n",
       "    </tr>\n",
       "    <tr>\n",
       "      <th>445</th>\n",
       "      <td>Vignan's Lara Institute of Technology &amp; Scienc...</td>\n",
       "      <td>Guntur</td>\n",
       "      <td>Andhra Pradesh</td>\n",
       "      <td>BE/B.Tech</td>\n",
       "      <td>8.3</td>\n",
       "      <td>489</td>\n",
       "      <td>₹ 76,000</td>\n",
       "    </tr>\n",
       "    <tr>\n",
       "      <th>446</th>\n",
       "      <td>Newton's  Institute of Engineering - [NIE]</td>\n",
       "      <td>Guntur</td>\n",
       "      <td>Andhra Pradesh</td>\n",
       "      <td>NaN</td>\n",
       "      <td>8.3</td>\n",
       "      <td>489</td>\n",
       "      <td>NaN</td>\n",
       "    </tr>\n",
       "    <tr>\n",
       "      <th>447</th>\n",
       "      <td>Velaga Nageswara Rao College of Engineering - ...</td>\n",
       "      <td>Guntur</td>\n",
       "      <td>Andhra Pradesh</td>\n",
       "      <td>BE/B.Tech</td>\n",
       "      <td>8.3</td>\n",
       "      <td>489</td>\n",
       "      <td>₹ 35,000</td>\n",
       "    </tr>\n",
       "    <tr>\n",
       "      <th>448</th>\n",
       "      <td>G V R &amp; S College of Engineering &amp; Technology ...</td>\n",
       "      <td>Guntur</td>\n",
       "      <td>Andhra Pradesh</td>\n",
       "      <td>BE/B.Tech</td>\n",
       "      <td>8.3</td>\n",
       "      <td>489</td>\n",
       "      <td>₹ 50,200</td>\n",
       "    </tr>\n",
       "  </tbody>\n",
       "</table>\n",
       "<p>449 rows × 7 columns</p>\n",
       "</div>"
      ],
      "text/plain": [
       "                                          College_Name Location  \\\n",
       "0    IIT Madras - Indian Institute of Technology - ...  Chennai   \n",
       "1                   Indian Maritime University - [IMU]  Chennai   \n",
       "2                 Saveetha Engineering College - [SEC]  Chennai   \n",
       "3    B.S. Abdur Rahman Crescent Institute of Scienc...  Chennai   \n",
       "4               Saveetha School of Engineering - [SSE]  Chennai   \n",
       "..                                                 ...      ...   \n",
       "444          Chintalapudi Engineering College - [CECG]   Guntur   \n",
       "445  Vignan's Lara Institute of Technology & Scienc...   Guntur   \n",
       "446         Newton's  Institute of Engineering - [NIE]   Guntur   \n",
       "447  Velaga Nageswara Rao College of Engineering - ...   Guntur   \n",
       "448  G V R & S College of Engineering & Technology ...   Guntur   \n",
       "\n",
       "               State     Course  Rating  No of Reviews  Course_Fee  \n",
       "0         Tamil Nadu  BE/B.Tech     8.7            246  ₹ 2,09,550  \n",
       "1         Tamil Nadu  BE/B.Tech     8.7            246  ₹ 1,05,000  \n",
       "2         Tamil Nadu  BE/B.Tech     8.7            246    ₹ 85,000  \n",
       "3         Tamil Nadu  BE/B.Tech     8.7            246    ₹ 85,000  \n",
       "4         Tamil Nadu  BE/B.Tech     8.7            246    ₹ 45,000  \n",
       "..               ...        ...     ...            ...         ...  \n",
       "444   Andhra Pradesh  BE/B.Tech     8.3            489    ₹ 35,000  \n",
       "445   Andhra Pradesh  BE/B.Tech     8.3            489    ₹ 76,000  \n",
       "446   Andhra Pradesh        NaN     8.3            489         NaN  \n",
       "447   Andhra Pradesh  BE/B.Tech     8.3            489    ₹ 35,000  \n",
       "448   Andhra Pradesh  BE/B.Tech     8.3            489    ₹ 50,200  \n",
       "\n",
       "[449 rows x 7 columns]"
      ]
     },
     "execution_count": 13,
     "metadata": {},
     "output_type": "execute_result"
    }
   ],
   "source": [
    "dfcol"
   ]
  },
  {
   "cell_type": "markdown",
   "id": "a0f4e2d7",
   "metadata": {},
   "source": [
    "### Checking  NANs"
   ]
  },
  {
   "cell_type": "code",
   "execution_count": 14,
   "id": "02db6e58",
   "metadata": {},
   "outputs": [
    {
     "data": {
      "text/plain": [
       "College_Name      0\n",
       "Location          0\n",
       "State             0\n",
       "Course           10\n",
       "Rating            0\n",
       "No of Reviews     0\n",
       "Course_Fee       10\n",
       "dtype: int64"
      ]
     },
     "execution_count": 14,
     "metadata": {},
     "output_type": "execute_result"
    }
   ],
   "source": [
    "dfcol.isna().sum()"
   ]
  },
  {
   "cell_type": "markdown",
   "id": "65d570c7",
   "metadata": {},
   "source": [
    "### Remove  the NAN bydroping the nan by using  dropna function"
   ]
  },
  {
   "cell_type": "code",
   "execution_count": 15,
   "id": "0cb4f9c7",
   "metadata": {},
   "outputs": [],
   "source": [
    "dfcol.dropna(how=\"any\",inplace=True)"
   ]
  },
  {
   "cell_type": "code",
   "execution_count": 16,
   "id": "479dd42a",
   "metadata": {},
   "outputs": [
    {
     "data": {
      "text/html": [
       "<div>\n",
       "<style scoped>\n",
       "    .dataframe tbody tr th:only-of-type {\n",
       "        vertical-align: middle;\n",
       "    }\n",
       "\n",
       "    .dataframe tbody tr th {\n",
       "        vertical-align: top;\n",
       "    }\n",
       "\n",
       "    .dataframe thead th {\n",
       "        text-align: right;\n",
       "    }\n",
       "</style>\n",
       "<table border=\"1\" class=\"dataframe\">\n",
       "  <thead>\n",
       "    <tr style=\"text-align: right;\">\n",
       "      <th></th>\n",
       "      <th>College_Name</th>\n",
       "      <th>Location</th>\n",
       "      <th>State</th>\n",
       "      <th>Course</th>\n",
       "      <th>Rating</th>\n",
       "      <th>No of Reviews</th>\n",
       "      <th>Course_Fee</th>\n",
       "    </tr>\n",
       "  </thead>\n",
       "  <tbody>\n",
       "    <tr>\n",
       "      <th>0</th>\n",
       "      <td>IIT Madras - Indian Institute of Technology - ...</td>\n",
       "      <td>Chennai</td>\n",
       "      <td>Tamil Nadu</td>\n",
       "      <td>BE/B.Tech</td>\n",
       "      <td>8.7</td>\n",
       "      <td>246</td>\n",
       "      <td>₹ 2,09,550</td>\n",
       "    </tr>\n",
       "    <tr>\n",
       "      <th>1</th>\n",
       "      <td>Indian Maritime University - [IMU]</td>\n",
       "      <td>Chennai</td>\n",
       "      <td>Tamil Nadu</td>\n",
       "      <td>BE/B.Tech</td>\n",
       "      <td>8.7</td>\n",
       "      <td>246</td>\n",
       "      <td>₹ 1,05,000</td>\n",
       "    </tr>\n",
       "    <tr>\n",
       "      <th>2</th>\n",
       "      <td>Saveetha Engineering College - [SEC]</td>\n",
       "      <td>Chennai</td>\n",
       "      <td>Tamil Nadu</td>\n",
       "      <td>BE/B.Tech</td>\n",
       "      <td>8.7</td>\n",
       "      <td>246</td>\n",
       "      <td>₹ 85,000</td>\n",
       "    </tr>\n",
       "    <tr>\n",
       "      <th>3</th>\n",
       "      <td>B.S. Abdur Rahman Crescent Institute of Scienc...</td>\n",
       "      <td>Chennai</td>\n",
       "      <td>Tamil Nadu</td>\n",
       "      <td>BE/B.Tech</td>\n",
       "      <td>8.7</td>\n",
       "      <td>246</td>\n",
       "      <td>₹ 85,000</td>\n",
       "    </tr>\n",
       "    <tr>\n",
       "      <th>4</th>\n",
       "      <td>Saveetha School of Engineering - [SSE]</td>\n",
       "      <td>Chennai</td>\n",
       "      <td>Tamil Nadu</td>\n",
       "      <td>BE/B.Tech</td>\n",
       "      <td>8.7</td>\n",
       "      <td>246</td>\n",
       "      <td>₹ 45,000</td>\n",
       "    </tr>\n",
       "    <tr>\n",
       "      <th>...</th>\n",
       "      <td>...</td>\n",
       "      <td>...</td>\n",
       "      <td>...</td>\n",
       "      <td>...</td>\n",
       "      <td>...</td>\n",
       "      <td>...</td>\n",
       "      <td>...</td>\n",
       "    </tr>\n",
       "    <tr>\n",
       "      <th>443</th>\n",
       "      <td>Malineni Perumallu Educational Society's Group...</td>\n",
       "      <td>Guntur</td>\n",
       "      <td>Andhra Pradesh</td>\n",
       "      <td>BE/B.Tech</td>\n",
       "      <td>8.3</td>\n",
       "      <td>489</td>\n",
       "      <td>₹ 35,000</td>\n",
       "    </tr>\n",
       "    <tr>\n",
       "      <th>444</th>\n",
       "      <td>Chintalapudi Engineering College - [CECG]</td>\n",
       "      <td>Guntur</td>\n",
       "      <td>Andhra Pradesh</td>\n",
       "      <td>BE/B.Tech</td>\n",
       "      <td>8.3</td>\n",
       "      <td>489</td>\n",
       "      <td>₹ 35,000</td>\n",
       "    </tr>\n",
       "    <tr>\n",
       "      <th>445</th>\n",
       "      <td>Vignan's Lara Institute of Technology &amp; Scienc...</td>\n",
       "      <td>Guntur</td>\n",
       "      <td>Andhra Pradesh</td>\n",
       "      <td>BE/B.Tech</td>\n",
       "      <td>8.3</td>\n",
       "      <td>489</td>\n",
       "      <td>₹ 76,000</td>\n",
       "    </tr>\n",
       "    <tr>\n",
       "      <th>447</th>\n",
       "      <td>Velaga Nageswara Rao College of Engineering - ...</td>\n",
       "      <td>Guntur</td>\n",
       "      <td>Andhra Pradesh</td>\n",
       "      <td>BE/B.Tech</td>\n",
       "      <td>8.3</td>\n",
       "      <td>489</td>\n",
       "      <td>₹ 35,000</td>\n",
       "    </tr>\n",
       "    <tr>\n",
       "      <th>448</th>\n",
       "      <td>G V R &amp; S College of Engineering &amp; Technology ...</td>\n",
       "      <td>Guntur</td>\n",
       "      <td>Andhra Pradesh</td>\n",
       "      <td>BE/B.Tech</td>\n",
       "      <td>8.3</td>\n",
       "      <td>489</td>\n",
       "      <td>₹ 50,200</td>\n",
       "    </tr>\n",
       "  </tbody>\n",
       "</table>\n",
       "<p>439 rows × 7 columns</p>\n",
       "</div>"
      ],
      "text/plain": [
       "                                          College_Name Location  \\\n",
       "0    IIT Madras - Indian Institute of Technology - ...  Chennai   \n",
       "1                   Indian Maritime University - [IMU]  Chennai   \n",
       "2                 Saveetha Engineering College - [SEC]  Chennai   \n",
       "3    B.S. Abdur Rahman Crescent Institute of Scienc...  Chennai   \n",
       "4               Saveetha School of Engineering - [SSE]  Chennai   \n",
       "..                                                 ...      ...   \n",
       "443  Malineni Perumallu Educational Society's Group...   Guntur   \n",
       "444          Chintalapudi Engineering College - [CECG]   Guntur   \n",
       "445  Vignan's Lara Institute of Technology & Scienc...   Guntur   \n",
       "447  Velaga Nageswara Rao College of Engineering - ...   Guntur   \n",
       "448  G V R & S College of Engineering & Technology ...   Guntur   \n",
       "\n",
       "               State     Course  Rating  No of Reviews  Course_Fee  \n",
       "0         Tamil Nadu  BE/B.Tech     8.7            246  ₹ 2,09,550  \n",
       "1         Tamil Nadu  BE/B.Tech     8.7            246  ₹ 1,05,000  \n",
       "2         Tamil Nadu  BE/B.Tech     8.7            246    ₹ 85,000  \n",
       "3         Tamil Nadu  BE/B.Tech     8.7            246    ₹ 85,000  \n",
       "4         Tamil Nadu  BE/B.Tech     8.7            246    ₹ 45,000  \n",
       "..               ...        ...     ...            ...         ...  \n",
       "443   Andhra Pradesh  BE/B.Tech     8.3            489    ₹ 35,000  \n",
       "444   Andhra Pradesh  BE/B.Tech     8.3            489    ₹ 35,000  \n",
       "445   Andhra Pradesh  BE/B.Tech     8.3            489    ₹ 76,000  \n",
       "447   Andhra Pradesh  BE/B.Tech     8.3            489    ₹ 35,000  \n",
       "448   Andhra Pradesh  BE/B.Tech     8.3            489    ₹ 50,200  \n",
       "\n",
       "[439 rows x 7 columns]"
      ]
     },
     "execution_count": 16,
     "metadata": {},
     "output_type": "execute_result"
    }
   ],
   "source": [
    "dfcol"
   ]
  },
  {
   "cell_type": "code",
   "execution_count": 17,
   "id": "22d51afb",
   "metadata": {},
   "outputs": [],
   "source": [
    "dfcol=dfcol.reset_index(drop=True)"
   ]
  },
  {
   "cell_type": "code",
   "execution_count": 18,
   "id": "526ada96",
   "metadata": {},
   "outputs": [
    {
     "data": {
      "text/html": [
       "<div>\n",
       "<style scoped>\n",
       "    .dataframe tbody tr th:only-of-type {\n",
       "        vertical-align: middle;\n",
       "    }\n",
       "\n",
       "    .dataframe tbody tr th {\n",
       "        vertical-align: top;\n",
       "    }\n",
       "\n",
       "    .dataframe thead th {\n",
       "        text-align: right;\n",
       "    }\n",
       "</style>\n",
       "<table border=\"1\" class=\"dataframe\">\n",
       "  <thead>\n",
       "    <tr style=\"text-align: right;\">\n",
       "      <th></th>\n",
       "      <th>College_Name</th>\n",
       "      <th>Location</th>\n",
       "      <th>State</th>\n",
       "      <th>Course</th>\n",
       "      <th>Rating</th>\n",
       "      <th>No of Reviews</th>\n",
       "      <th>Course_Fee</th>\n",
       "    </tr>\n",
       "  </thead>\n",
       "  <tbody>\n",
       "    <tr>\n",
       "      <th>0</th>\n",
       "      <td>IIT Madras - Indian Institute of Technology - ...</td>\n",
       "      <td>Chennai</td>\n",
       "      <td>Tamil Nadu</td>\n",
       "      <td>BE/B.Tech</td>\n",
       "      <td>8.7</td>\n",
       "      <td>246</td>\n",
       "      <td>₹ 2,09,550</td>\n",
       "    </tr>\n",
       "    <tr>\n",
       "      <th>1</th>\n",
       "      <td>Indian Maritime University - [IMU]</td>\n",
       "      <td>Chennai</td>\n",
       "      <td>Tamil Nadu</td>\n",
       "      <td>BE/B.Tech</td>\n",
       "      <td>8.7</td>\n",
       "      <td>246</td>\n",
       "      <td>₹ 1,05,000</td>\n",
       "    </tr>\n",
       "    <tr>\n",
       "      <th>2</th>\n",
       "      <td>Saveetha Engineering College - [SEC]</td>\n",
       "      <td>Chennai</td>\n",
       "      <td>Tamil Nadu</td>\n",
       "      <td>BE/B.Tech</td>\n",
       "      <td>8.7</td>\n",
       "      <td>246</td>\n",
       "      <td>₹ 85,000</td>\n",
       "    </tr>\n",
       "    <tr>\n",
       "      <th>3</th>\n",
       "      <td>B.S. Abdur Rahman Crescent Institute of Scienc...</td>\n",
       "      <td>Chennai</td>\n",
       "      <td>Tamil Nadu</td>\n",
       "      <td>BE/B.Tech</td>\n",
       "      <td>8.7</td>\n",
       "      <td>246</td>\n",
       "      <td>₹ 85,000</td>\n",
       "    </tr>\n",
       "    <tr>\n",
       "      <th>4</th>\n",
       "      <td>Saveetha School of Engineering - [SSE]</td>\n",
       "      <td>Chennai</td>\n",
       "      <td>Tamil Nadu</td>\n",
       "      <td>BE/B.Tech</td>\n",
       "      <td>8.7</td>\n",
       "      <td>246</td>\n",
       "      <td>₹ 45,000</td>\n",
       "    </tr>\n",
       "    <tr>\n",
       "      <th>...</th>\n",
       "      <td>...</td>\n",
       "      <td>...</td>\n",
       "      <td>...</td>\n",
       "      <td>...</td>\n",
       "      <td>...</td>\n",
       "      <td>...</td>\n",
       "      <td>...</td>\n",
       "    </tr>\n",
       "    <tr>\n",
       "      <th>434</th>\n",
       "      <td>Malineni Perumallu Educational Society's Group...</td>\n",
       "      <td>Guntur</td>\n",
       "      <td>Andhra Pradesh</td>\n",
       "      <td>BE/B.Tech</td>\n",
       "      <td>8.3</td>\n",
       "      <td>489</td>\n",
       "      <td>₹ 35,000</td>\n",
       "    </tr>\n",
       "    <tr>\n",
       "      <th>435</th>\n",
       "      <td>Chintalapudi Engineering College - [CECG]</td>\n",
       "      <td>Guntur</td>\n",
       "      <td>Andhra Pradesh</td>\n",
       "      <td>BE/B.Tech</td>\n",
       "      <td>8.3</td>\n",
       "      <td>489</td>\n",
       "      <td>₹ 35,000</td>\n",
       "    </tr>\n",
       "    <tr>\n",
       "      <th>436</th>\n",
       "      <td>Vignan's Lara Institute of Technology &amp; Scienc...</td>\n",
       "      <td>Guntur</td>\n",
       "      <td>Andhra Pradesh</td>\n",
       "      <td>BE/B.Tech</td>\n",
       "      <td>8.3</td>\n",
       "      <td>489</td>\n",
       "      <td>₹ 76,000</td>\n",
       "    </tr>\n",
       "    <tr>\n",
       "      <th>437</th>\n",
       "      <td>Velaga Nageswara Rao College of Engineering - ...</td>\n",
       "      <td>Guntur</td>\n",
       "      <td>Andhra Pradesh</td>\n",
       "      <td>BE/B.Tech</td>\n",
       "      <td>8.3</td>\n",
       "      <td>489</td>\n",
       "      <td>₹ 35,000</td>\n",
       "    </tr>\n",
       "    <tr>\n",
       "      <th>438</th>\n",
       "      <td>G V R &amp; S College of Engineering &amp; Technology ...</td>\n",
       "      <td>Guntur</td>\n",
       "      <td>Andhra Pradesh</td>\n",
       "      <td>BE/B.Tech</td>\n",
       "      <td>8.3</td>\n",
       "      <td>489</td>\n",
       "      <td>₹ 50,200</td>\n",
       "    </tr>\n",
       "  </tbody>\n",
       "</table>\n",
       "<p>439 rows × 7 columns</p>\n",
       "</div>"
      ],
      "text/plain": [
       "                                          College_Name Location  \\\n",
       "0    IIT Madras - Indian Institute of Technology - ...  Chennai   \n",
       "1                   Indian Maritime University - [IMU]  Chennai   \n",
       "2                 Saveetha Engineering College - [SEC]  Chennai   \n",
       "3    B.S. Abdur Rahman Crescent Institute of Scienc...  Chennai   \n",
       "4               Saveetha School of Engineering - [SSE]  Chennai   \n",
       "..                                                 ...      ...   \n",
       "434  Malineni Perumallu Educational Society's Group...   Guntur   \n",
       "435          Chintalapudi Engineering College - [CECG]   Guntur   \n",
       "436  Vignan's Lara Institute of Technology & Scienc...   Guntur   \n",
       "437  Velaga Nageswara Rao College of Engineering - ...   Guntur   \n",
       "438  G V R & S College of Engineering & Technology ...   Guntur   \n",
       "\n",
       "               State     Course  Rating  No of Reviews  Course_Fee  \n",
       "0         Tamil Nadu  BE/B.Tech     8.7            246  ₹ 2,09,550  \n",
       "1         Tamil Nadu  BE/B.Tech     8.7            246  ₹ 1,05,000  \n",
       "2         Tamil Nadu  BE/B.Tech     8.7            246    ₹ 85,000  \n",
       "3         Tamil Nadu  BE/B.Tech     8.7            246    ₹ 85,000  \n",
       "4         Tamil Nadu  BE/B.Tech     8.7            246    ₹ 45,000  \n",
       "..               ...        ...     ...            ...         ...  \n",
       "434   Andhra Pradesh  BE/B.Tech     8.3            489    ₹ 35,000  \n",
       "435   Andhra Pradesh  BE/B.Tech     8.3            489    ₹ 35,000  \n",
       "436   Andhra Pradesh  BE/B.Tech     8.3            489    ₹ 76,000  \n",
       "437   Andhra Pradesh  BE/B.Tech     8.3            489    ₹ 35,000  \n",
       "438   Andhra Pradesh  BE/B.Tech     8.3            489    ₹ 50,200  \n",
       "\n",
       "[439 rows x 7 columns]"
      ]
     },
     "execution_count": 18,
     "metadata": {},
     "output_type": "execute_result"
    }
   ],
   "source": [
    "dfcol"
   ]
  },
  {
   "cell_type": "code",
   "execution_count": 19,
   "id": "788f71c0",
   "metadata": {},
   "outputs": [
    {
     "data": {
      "text/plain": [
       "College_Name      object\n",
       "Location          object\n",
       "State             object\n",
       "Course            object\n",
       "Rating           float64\n",
       "No of Reviews      int64\n",
       "Course_Fee        object\n",
       "dtype: object"
      ]
     },
     "execution_count": 19,
     "metadata": {},
     "output_type": "execute_result"
    }
   ],
   "source": [
    "dfcol.dtypes"
   ]
  },
  {
   "cell_type": "markdown",
   "id": "fd68c740",
   "metadata": {},
   "source": [
    "### Validation the data by using the duplicate function"
   ]
  },
  {
   "cell_type": "code",
   "execution_count": 20,
   "id": "1cf19fc2",
   "metadata": {},
   "outputs": [
    {
     "data": {
      "text/html": [
       "<div>\n",
       "<style scoped>\n",
       "    .dataframe tbody tr th:only-of-type {\n",
       "        vertical-align: middle;\n",
       "    }\n",
       "\n",
       "    .dataframe tbody tr th {\n",
       "        vertical-align: top;\n",
       "    }\n",
       "\n",
       "    .dataframe thead th {\n",
       "        text-align: right;\n",
       "    }\n",
       "</style>\n",
       "<table border=\"1\" class=\"dataframe\">\n",
       "  <thead>\n",
       "    <tr style=\"text-align: right;\">\n",
       "      <th></th>\n",
       "      <th>College_Name</th>\n",
       "      <th>Location</th>\n",
       "      <th>State</th>\n",
       "      <th>Course</th>\n",
       "      <th>Rating</th>\n",
       "      <th>No of Reviews</th>\n",
       "      <th>Course_Fee</th>\n",
       "    </tr>\n",
       "  </thead>\n",
       "  <tbody>\n",
       "  </tbody>\n",
       "</table>\n",
       "</div>"
      ],
      "text/plain": [
       "Empty DataFrame\n",
       "Columns: [College_Name, Location, State, Course, Rating, No of Reviews, Course_Fee]\n",
       "Index: []"
      ]
     },
     "execution_count": 20,
     "metadata": {},
     "output_type": "execute_result"
    }
   ],
   "source": [
    "dfcol[dfcol.duplicated()]"
   ]
  },
  {
   "cell_type": "markdown",
   "id": "e9532d01",
   "metadata": {},
   "source": [
    "### Remove the unwanted characters in the numerical columns ..by using the replace function"
   ]
  },
  {
   "cell_type": "code",
   "execution_count": 21,
   "id": "f17754c0",
   "metadata": {},
   "outputs": [],
   "source": [
    "dfcol[\"Course_Fee\"]=dfcol[\"Course_Fee\"].replace(\"₹\",\"\",regex=True)"
   ]
  },
  {
   "cell_type": "code",
   "execution_count": 22,
   "id": "f65f774a",
   "metadata": {},
   "outputs": [],
   "source": [
    "dfcol[\"Course_Fee\"]=dfcol[\"Course_Fee\"].replace(\",\",\"\",regex=True)"
   ]
  },
  {
   "cell_type": "code",
   "execution_count": 23,
   "id": "7fc12aed",
   "metadata": {},
   "outputs": [
    {
     "data": {
      "text/html": [
       "<div>\n",
       "<style scoped>\n",
       "    .dataframe tbody tr th:only-of-type {\n",
       "        vertical-align: middle;\n",
       "    }\n",
       "\n",
       "    .dataframe tbody tr th {\n",
       "        vertical-align: top;\n",
       "    }\n",
       "\n",
       "    .dataframe thead th {\n",
       "        text-align: right;\n",
       "    }\n",
       "</style>\n",
       "<table border=\"1\" class=\"dataframe\">\n",
       "  <thead>\n",
       "    <tr style=\"text-align: right;\">\n",
       "      <th></th>\n",
       "      <th>College_Name</th>\n",
       "      <th>Location</th>\n",
       "      <th>State</th>\n",
       "      <th>Course</th>\n",
       "      <th>Rating</th>\n",
       "      <th>No of Reviews</th>\n",
       "      <th>Course_Fee</th>\n",
       "    </tr>\n",
       "  </thead>\n",
       "  <tbody>\n",
       "    <tr>\n",
       "      <th>0</th>\n",
       "      <td>IIT Madras - Indian Institute of Technology - ...</td>\n",
       "      <td>Chennai</td>\n",
       "      <td>Tamil Nadu</td>\n",
       "      <td>BE/B.Tech</td>\n",
       "      <td>8.7</td>\n",
       "      <td>246</td>\n",
       "      <td>209550</td>\n",
       "    </tr>\n",
       "    <tr>\n",
       "      <th>1</th>\n",
       "      <td>Indian Maritime University - [IMU]</td>\n",
       "      <td>Chennai</td>\n",
       "      <td>Tamil Nadu</td>\n",
       "      <td>BE/B.Tech</td>\n",
       "      <td>8.7</td>\n",
       "      <td>246</td>\n",
       "      <td>105000</td>\n",
       "    </tr>\n",
       "    <tr>\n",
       "      <th>2</th>\n",
       "      <td>Saveetha Engineering College - [SEC]</td>\n",
       "      <td>Chennai</td>\n",
       "      <td>Tamil Nadu</td>\n",
       "      <td>BE/B.Tech</td>\n",
       "      <td>8.7</td>\n",
       "      <td>246</td>\n",
       "      <td>85000</td>\n",
       "    </tr>\n",
       "    <tr>\n",
       "      <th>3</th>\n",
       "      <td>B.S. Abdur Rahman Crescent Institute of Scienc...</td>\n",
       "      <td>Chennai</td>\n",
       "      <td>Tamil Nadu</td>\n",
       "      <td>BE/B.Tech</td>\n",
       "      <td>8.7</td>\n",
       "      <td>246</td>\n",
       "      <td>85000</td>\n",
       "    </tr>\n",
       "    <tr>\n",
       "      <th>4</th>\n",
       "      <td>Saveetha School of Engineering - [SSE]</td>\n",
       "      <td>Chennai</td>\n",
       "      <td>Tamil Nadu</td>\n",
       "      <td>BE/B.Tech</td>\n",
       "      <td>8.7</td>\n",
       "      <td>246</td>\n",
       "      <td>45000</td>\n",
       "    </tr>\n",
       "    <tr>\n",
       "      <th>...</th>\n",
       "      <td>...</td>\n",
       "      <td>...</td>\n",
       "      <td>...</td>\n",
       "      <td>...</td>\n",
       "      <td>...</td>\n",
       "      <td>...</td>\n",
       "      <td>...</td>\n",
       "    </tr>\n",
       "    <tr>\n",
       "      <th>434</th>\n",
       "      <td>Malineni Perumallu Educational Society's Group...</td>\n",
       "      <td>Guntur</td>\n",
       "      <td>Andhra Pradesh</td>\n",
       "      <td>BE/B.Tech</td>\n",
       "      <td>8.3</td>\n",
       "      <td>489</td>\n",
       "      <td>35000</td>\n",
       "    </tr>\n",
       "    <tr>\n",
       "      <th>435</th>\n",
       "      <td>Chintalapudi Engineering College - [CECG]</td>\n",
       "      <td>Guntur</td>\n",
       "      <td>Andhra Pradesh</td>\n",
       "      <td>BE/B.Tech</td>\n",
       "      <td>8.3</td>\n",
       "      <td>489</td>\n",
       "      <td>35000</td>\n",
       "    </tr>\n",
       "    <tr>\n",
       "      <th>436</th>\n",
       "      <td>Vignan's Lara Institute of Technology &amp; Scienc...</td>\n",
       "      <td>Guntur</td>\n",
       "      <td>Andhra Pradesh</td>\n",
       "      <td>BE/B.Tech</td>\n",
       "      <td>8.3</td>\n",
       "      <td>489</td>\n",
       "      <td>76000</td>\n",
       "    </tr>\n",
       "    <tr>\n",
       "      <th>437</th>\n",
       "      <td>Velaga Nageswara Rao College of Engineering - ...</td>\n",
       "      <td>Guntur</td>\n",
       "      <td>Andhra Pradesh</td>\n",
       "      <td>BE/B.Tech</td>\n",
       "      <td>8.3</td>\n",
       "      <td>489</td>\n",
       "      <td>35000</td>\n",
       "    </tr>\n",
       "    <tr>\n",
       "      <th>438</th>\n",
       "      <td>G V R &amp; S College of Engineering &amp; Technology ...</td>\n",
       "      <td>Guntur</td>\n",
       "      <td>Andhra Pradesh</td>\n",
       "      <td>BE/B.Tech</td>\n",
       "      <td>8.3</td>\n",
       "      <td>489</td>\n",
       "      <td>50200</td>\n",
       "    </tr>\n",
       "  </tbody>\n",
       "</table>\n",
       "<p>439 rows × 7 columns</p>\n",
       "</div>"
      ],
      "text/plain": [
       "                                          College_Name Location  \\\n",
       "0    IIT Madras - Indian Institute of Technology - ...  Chennai   \n",
       "1                   Indian Maritime University - [IMU]  Chennai   \n",
       "2                 Saveetha Engineering College - [SEC]  Chennai   \n",
       "3    B.S. Abdur Rahman Crescent Institute of Scienc...  Chennai   \n",
       "4               Saveetha School of Engineering - [SSE]  Chennai   \n",
       "..                                                 ...      ...   \n",
       "434  Malineni Perumallu Educational Society's Group...   Guntur   \n",
       "435          Chintalapudi Engineering College - [CECG]   Guntur   \n",
       "436  Vignan's Lara Institute of Technology & Scienc...   Guntur   \n",
       "437  Velaga Nageswara Rao College of Engineering - ...   Guntur   \n",
       "438  G V R & S College of Engineering & Technology ...   Guntur   \n",
       "\n",
       "               State     Course  Rating  No of Reviews Course_Fee  \n",
       "0         Tamil Nadu  BE/B.Tech     8.7            246     209550  \n",
       "1         Tamil Nadu  BE/B.Tech     8.7            246     105000  \n",
       "2         Tamil Nadu  BE/B.Tech     8.7            246      85000  \n",
       "3         Tamil Nadu  BE/B.Tech     8.7            246      85000  \n",
       "4         Tamil Nadu  BE/B.Tech     8.7            246      45000  \n",
       "..               ...        ...     ...            ...        ...  \n",
       "434   Andhra Pradesh  BE/B.Tech     8.3            489      35000  \n",
       "435   Andhra Pradesh  BE/B.Tech     8.3            489      35000  \n",
       "436   Andhra Pradesh  BE/B.Tech     8.3            489      76000  \n",
       "437   Andhra Pradesh  BE/B.Tech     8.3            489      35000  \n",
       "438   Andhra Pradesh  BE/B.Tech     8.3            489      50200  \n",
       "\n",
       "[439 rows x 7 columns]"
      ]
     },
     "execution_count": 23,
     "metadata": {},
     "output_type": "execute_result"
    }
   ],
   "source": [
    "dfcol"
   ]
  },
  {
   "cell_type": "markdown",
   "id": "455a3b7c",
   "metadata": {},
   "source": [
    "### Converting the numerical data columns into integer float, by using astype function"
   ]
  },
  {
   "cell_type": "code",
   "execution_count": 24,
   "id": "caa65097",
   "metadata": {},
   "outputs": [],
   "source": [
    "dfcol[\"Course_Fee\"]=dfcol[\"Course_Fee\"].astype(int)"
   ]
  },
  {
   "cell_type": "code",
   "execution_count": 25,
   "id": "7b4b4060",
   "metadata": {},
   "outputs": [
    {
     "data": {
      "text/plain": [
       "College_Name     0\n",
       "Location         0\n",
       "State            0\n",
       "Course           0\n",
       "Rating           0\n",
       "No of Reviews    0\n",
       "Course_Fee       0\n",
       "dtype: int64"
      ]
     },
     "execution_count": 25,
     "metadata": {},
     "output_type": "execute_result"
    }
   ],
   "source": [
    "dfcol.isna().sum()"
   ]
  },
  {
   "cell_type": "code",
   "execution_count": 26,
   "id": "c34ce436",
   "metadata": {},
   "outputs": [
    {
     "data": {
      "text/plain": [
       "College_Name      object\n",
       "Location          object\n",
       "State             object\n",
       "Course            object\n",
       "Rating           float64\n",
       "No of Reviews      int64\n",
       "Course_Fee         int32\n",
       "dtype: object"
      ]
     },
     "execution_count": 26,
     "metadata": {},
     "output_type": "execute_result"
    }
   ],
   "source": [
    "dfcol.dtypes"
   ]
  },
  {
   "cell_type": "code",
   "execution_count": 27,
   "id": "ff76948f",
   "metadata": {},
   "outputs": [
    {
     "data": {
      "text/plain": [
       "array([8.7, 8.6, 8.8, 7.9, 8.4, 8.5, 8.3, 8.1])"
      ]
     },
     "execution_count": 27,
     "metadata": {},
     "output_type": "execute_result"
    }
   ],
   "source": [
    "dfcol[\"Rating\"].unique()"
   ]
  },
  {
   "cell_type": "code",
   "execution_count": 28,
   "id": "aa45a829",
   "metadata": {},
   "outputs": [
    {
     "data": {
      "text/plain": [
       "8"
      ]
     },
     "execution_count": 28,
     "metadata": {},
     "output_type": "execute_result"
    }
   ],
   "source": [
    "dfcol[\"Rating\"].nunique()"
   ]
  },
  {
   "cell_type": "code",
   "execution_count": 29,
   "id": "ef054454",
   "metadata": {},
   "outputs": [
    {
     "data": {
      "text/plain": [
       "8.3    84\n",
       "7.9    81\n",
       "8.6    59\n",
       "8.4    56\n",
       "8.8    55\n",
       "8.5    51\n",
       "8.7    27\n",
       "8.1    26\n",
       "Name: Rating, dtype: int64"
      ]
     },
     "execution_count": 29,
     "metadata": {},
     "output_type": "execute_result"
    }
   ],
   "source": [
    "dfcol[\"Rating\"].value_counts()"
   ]
  },
  {
   "cell_type": "markdown",
   "id": "2bfba311",
   "metadata": {},
   "source": [
    "### Create one extra columns with the name of ratingsummary based on ratings columns, by using map lamdba function\n"
   ]
  },
  {
   "cell_type": "code",
   "execution_count": 30,
   "id": "95d7df1c",
   "metadata": {},
   "outputs": [],
   "source": [
    "dfcol[\"Ratingsummary\"]=dfcol[\"Rating\"].map(lambda x: \"Excellent\"  if x>8.5 else \"Good\" if x>8.0 else \"Fair\")"
   ]
  },
  {
   "cell_type": "code",
   "execution_count": 31,
   "id": "102c76d1",
   "metadata": {},
   "outputs": [
    {
     "data": {
      "text/html": [
       "<div>\n",
       "<style scoped>\n",
       "    .dataframe tbody tr th:only-of-type {\n",
       "        vertical-align: middle;\n",
       "    }\n",
       "\n",
       "    .dataframe tbody tr th {\n",
       "        vertical-align: top;\n",
       "    }\n",
       "\n",
       "    .dataframe thead th {\n",
       "        text-align: right;\n",
       "    }\n",
       "</style>\n",
       "<table border=\"1\" class=\"dataframe\">\n",
       "  <thead>\n",
       "    <tr style=\"text-align: right;\">\n",
       "      <th></th>\n",
       "      <th>College_Name</th>\n",
       "      <th>Location</th>\n",
       "      <th>State</th>\n",
       "      <th>Course</th>\n",
       "      <th>Rating</th>\n",
       "      <th>No of Reviews</th>\n",
       "      <th>Course_Fee</th>\n",
       "      <th>Ratingsummary</th>\n",
       "    </tr>\n",
       "  </thead>\n",
       "  <tbody>\n",
       "    <tr>\n",
       "      <th>0</th>\n",
       "      <td>IIT Madras - Indian Institute of Technology - ...</td>\n",
       "      <td>Chennai</td>\n",
       "      <td>Tamil Nadu</td>\n",
       "      <td>BE/B.Tech</td>\n",
       "      <td>8.7</td>\n",
       "      <td>246</td>\n",
       "      <td>209550</td>\n",
       "      <td>Excellent</td>\n",
       "    </tr>\n",
       "    <tr>\n",
       "      <th>1</th>\n",
       "      <td>Indian Maritime University - [IMU]</td>\n",
       "      <td>Chennai</td>\n",
       "      <td>Tamil Nadu</td>\n",
       "      <td>BE/B.Tech</td>\n",
       "      <td>8.7</td>\n",
       "      <td>246</td>\n",
       "      <td>105000</td>\n",
       "      <td>Excellent</td>\n",
       "    </tr>\n",
       "    <tr>\n",
       "      <th>2</th>\n",
       "      <td>Saveetha Engineering College - [SEC]</td>\n",
       "      <td>Chennai</td>\n",
       "      <td>Tamil Nadu</td>\n",
       "      <td>BE/B.Tech</td>\n",
       "      <td>8.7</td>\n",
       "      <td>246</td>\n",
       "      <td>85000</td>\n",
       "      <td>Excellent</td>\n",
       "    </tr>\n",
       "    <tr>\n",
       "      <th>3</th>\n",
       "      <td>B.S. Abdur Rahman Crescent Institute of Scienc...</td>\n",
       "      <td>Chennai</td>\n",
       "      <td>Tamil Nadu</td>\n",
       "      <td>BE/B.Tech</td>\n",
       "      <td>8.7</td>\n",
       "      <td>246</td>\n",
       "      <td>85000</td>\n",
       "      <td>Excellent</td>\n",
       "    </tr>\n",
       "    <tr>\n",
       "      <th>4</th>\n",
       "      <td>Saveetha School of Engineering - [SSE]</td>\n",
       "      <td>Chennai</td>\n",
       "      <td>Tamil Nadu</td>\n",
       "      <td>BE/B.Tech</td>\n",
       "      <td>8.7</td>\n",
       "      <td>246</td>\n",
       "      <td>45000</td>\n",
       "      <td>Excellent</td>\n",
       "    </tr>\n",
       "    <tr>\n",
       "      <th>...</th>\n",
       "      <td>...</td>\n",
       "      <td>...</td>\n",
       "      <td>...</td>\n",
       "      <td>...</td>\n",
       "      <td>...</td>\n",
       "      <td>...</td>\n",
       "      <td>...</td>\n",
       "      <td>...</td>\n",
       "    </tr>\n",
       "    <tr>\n",
       "      <th>434</th>\n",
       "      <td>Malineni Perumallu Educational Society's Group...</td>\n",
       "      <td>Guntur</td>\n",
       "      <td>Andhra Pradesh</td>\n",
       "      <td>BE/B.Tech</td>\n",
       "      <td>8.3</td>\n",
       "      <td>489</td>\n",
       "      <td>35000</td>\n",
       "      <td>Good</td>\n",
       "    </tr>\n",
       "    <tr>\n",
       "      <th>435</th>\n",
       "      <td>Chintalapudi Engineering College - [CECG]</td>\n",
       "      <td>Guntur</td>\n",
       "      <td>Andhra Pradesh</td>\n",
       "      <td>BE/B.Tech</td>\n",
       "      <td>8.3</td>\n",
       "      <td>489</td>\n",
       "      <td>35000</td>\n",
       "      <td>Good</td>\n",
       "    </tr>\n",
       "    <tr>\n",
       "      <th>436</th>\n",
       "      <td>Vignan's Lara Institute of Technology &amp; Scienc...</td>\n",
       "      <td>Guntur</td>\n",
       "      <td>Andhra Pradesh</td>\n",
       "      <td>BE/B.Tech</td>\n",
       "      <td>8.3</td>\n",
       "      <td>489</td>\n",
       "      <td>76000</td>\n",
       "      <td>Good</td>\n",
       "    </tr>\n",
       "    <tr>\n",
       "      <th>437</th>\n",
       "      <td>Velaga Nageswara Rao College of Engineering - ...</td>\n",
       "      <td>Guntur</td>\n",
       "      <td>Andhra Pradesh</td>\n",
       "      <td>BE/B.Tech</td>\n",
       "      <td>8.3</td>\n",
       "      <td>489</td>\n",
       "      <td>35000</td>\n",
       "      <td>Good</td>\n",
       "    </tr>\n",
       "    <tr>\n",
       "      <th>438</th>\n",
       "      <td>G V R &amp; S College of Engineering &amp; Technology ...</td>\n",
       "      <td>Guntur</td>\n",
       "      <td>Andhra Pradesh</td>\n",
       "      <td>BE/B.Tech</td>\n",
       "      <td>8.3</td>\n",
       "      <td>489</td>\n",
       "      <td>50200</td>\n",
       "      <td>Good</td>\n",
       "    </tr>\n",
       "  </tbody>\n",
       "</table>\n",
       "<p>439 rows × 8 columns</p>\n",
       "</div>"
      ],
      "text/plain": [
       "                                          College_Name Location  \\\n",
       "0    IIT Madras - Indian Institute of Technology - ...  Chennai   \n",
       "1                   Indian Maritime University - [IMU]  Chennai   \n",
       "2                 Saveetha Engineering College - [SEC]  Chennai   \n",
       "3    B.S. Abdur Rahman Crescent Institute of Scienc...  Chennai   \n",
       "4               Saveetha School of Engineering - [SSE]  Chennai   \n",
       "..                                                 ...      ...   \n",
       "434  Malineni Perumallu Educational Society's Group...   Guntur   \n",
       "435          Chintalapudi Engineering College - [CECG]   Guntur   \n",
       "436  Vignan's Lara Institute of Technology & Scienc...   Guntur   \n",
       "437  Velaga Nageswara Rao College of Engineering - ...   Guntur   \n",
       "438  G V R & S College of Engineering & Technology ...   Guntur   \n",
       "\n",
       "               State     Course  Rating  No of Reviews  Course_Fee  \\\n",
       "0         Tamil Nadu  BE/B.Tech     8.7            246      209550   \n",
       "1         Tamil Nadu  BE/B.Tech     8.7            246      105000   \n",
       "2         Tamil Nadu  BE/B.Tech     8.7            246       85000   \n",
       "3         Tamil Nadu  BE/B.Tech     8.7            246       85000   \n",
       "4         Tamil Nadu  BE/B.Tech     8.7            246       45000   \n",
       "..               ...        ...     ...            ...         ...   \n",
       "434   Andhra Pradesh  BE/B.Tech     8.3            489       35000   \n",
       "435   Andhra Pradesh  BE/B.Tech     8.3            489       35000   \n",
       "436   Andhra Pradesh  BE/B.Tech     8.3            489       76000   \n",
       "437   Andhra Pradesh  BE/B.Tech     8.3            489       35000   \n",
       "438   Andhra Pradesh  BE/B.Tech     8.3            489       50200   \n",
       "\n",
       "    Ratingsummary  \n",
       "0       Excellent  \n",
       "1       Excellent  \n",
       "2       Excellent  \n",
       "3       Excellent  \n",
       "4       Excellent  \n",
       "..            ...  \n",
       "434          Good  \n",
       "435          Good  \n",
       "436          Good  \n",
       "437          Good  \n",
       "438          Good  \n",
       "\n",
       "[439 rows x 8 columns]"
      ]
     },
     "execution_count": 31,
     "metadata": {},
     "output_type": "execute_result"
    }
   ],
   "source": [
    "dfcol"
   ]
  },
  {
   "cell_type": "markdown",
   "id": "07663b5d",
   "metadata": {},
   "source": [
    "### Changed the columns order by using reindex function"
   ]
  },
  {
   "cell_type": "code",
   "execution_count": 32,
   "id": "06d2d6ed",
   "metadata": {},
   "outputs": [],
   "source": [
    "dfcol=dfcol.reindex(columns=['College_Name', 'Location', 'State', 'Course', 'Rating',\n",
    "       'No of Reviews','Ratingsummary', 'Course_Fee'],)"
   ]
  },
  {
   "cell_type": "code",
   "execution_count": 33,
   "id": "6a58a22d",
   "metadata": {
    "scrolled": true
   },
   "outputs": [
    {
     "data": {
      "text/html": [
       "<div>\n",
       "<style scoped>\n",
       "    .dataframe tbody tr th:only-of-type {\n",
       "        vertical-align: middle;\n",
       "    }\n",
       "\n",
       "    .dataframe tbody tr th {\n",
       "        vertical-align: top;\n",
       "    }\n",
       "\n",
       "    .dataframe thead th {\n",
       "        text-align: right;\n",
       "    }\n",
       "</style>\n",
       "<table border=\"1\" class=\"dataframe\">\n",
       "  <thead>\n",
       "    <tr style=\"text-align: right;\">\n",
       "      <th></th>\n",
       "      <th>College_Name</th>\n",
       "      <th>Location</th>\n",
       "      <th>State</th>\n",
       "      <th>Course</th>\n",
       "      <th>Rating</th>\n",
       "      <th>No of Reviews</th>\n",
       "      <th>Ratingsummary</th>\n",
       "      <th>Course_Fee</th>\n",
       "    </tr>\n",
       "  </thead>\n",
       "  <tbody>\n",
       "    <tr>\n",
       "      <th>0</th>\n",
       "      <td>IIT Madras - Indian Institute of Technology - ...</td>\n",
       "      <td>Chennai</td>\n",
       "      <td>Tamil Nadu</td>\n",
       "      <td>BE/B.Tech</td>\n",
       "      <td>8.7</td>\n",
       "      <td>246</td>\n",
       "      <td>Excellent</td>\n",
       "      <td>209550</td>\n",
       "    </tr>\n",
       "    <tr>\n",
       "      <th>1</th>\n",
       "      <td>Indian Maritime University - [IMU]</td>\n",
       "      <td>Chennai</td>\n",
       "      <td>Tamil Nadu</td>\n",
       "      <td>BE/B.Tech</td>\n",
       "      <td>8.7</td>\n",
       "      <td>246</td>\n",
       "      <td>Excellent</td>\n",
       "      <td>105000</td>\n",
       "    </tr>\n",
       "    <tr>\n",
       "      <th>2</th>\n",
       "      <td>Saveetha Engineering College - [SEC]</td>\n",
       "      <td>Chennai</td>\n",
       "      <td>Tamil Nadu</td>\n",
       "      <td>BE/B.Tech</td>\n",
       "      <td>8.7</td>\n",
       "      <td>246</td>\n",
       "      <td>Excellent</td>\n",
       "      <td>85000</td>\n",
       "    </tr>\n",
       "    <tr>\n",
       "      <th>3</th>\n",
       "      <td>B.S. Abdur Rahman Crescent Institute of Scienc...</td>\n",
       "      <td>Chennai</td>\n",
       "      <td>Tamil Nadu</td>\n",
       "      <td>BE/B.Tech</td>\n",
       "      <td>8.7</td>\n",
       "      <td>246</td>\n",
       "      <td>Excellent</td>\n",
       "      <td>85000</td>\n",
       "    </tr>\n",
       "    <tr>\n",
       "      <th>4</th>\n",
       "      <td>Saveetha School of Engineering - [SSE]</td>\n",
       "      <td>Chennai</td>\n",
       "      <td>Tamil Nadu</td>\n",
       "      <td>BE/B.Tech</td>\n",
       "      <td>8.7</td>\n",
       "      <td>246</td>\n",
       "      <td>Excellent</td>\n",
       "      <td>45000</td>\n",
       "    </tr>\n",
       "    <tr>\n",
       "      <th>...</th>\n",
       "      <td>...</td>\n",
       "      <td>...</td>\n",
       "      <td>...</td>\n",
       "      <td>...</td>\n",
       "      <td>...</td>\n",
       "      <td>...</td>\n",
       "      <td>...</td>\n",
       "      <td>...</td>\n",
       "    </tr>\n",
       "    <tr>\n",
       "      <th>434</th>\n",
       "      <td>Malineni Perumallu Educational Society's Group...</td>\n",
       "      <td>Guntur</td>\n",
       "      <td>Andhra Pradesh</td>\n",
       "      <td>BE/B.Tech</td>\n",
       "      <td>8.3</td>\n",
       "      <td>489</td>\n",
       "      <td>Good</td>\n",
       "      <td>35000</td>\n",
       "    </tr>\n",
       "    <tr>\n",
       "      <th>435</th>\n",
       "      <td>Chintalapudi Engineering College - [CECG]</td>\n",
       "      <td>Guntur</td>\n",
       "      <td>Andhra Pradesh</td>\n",
       "      <td>BE/B.Tech</td>\n",
       "      <td>8.3</td>\n",
       "      <td>489</td>\n",
       "      <td>Good</td>\n",
       "      <td>35000</td>\n",
       "    </tr>\n",
       "    <tr>\n",
       "      <th>436</th>\n",
       "      <td>Vignan's Lara Institute of Technology &amp; Scienc...</td>\n",
       "      <td>Guntur</td>\n",
       "      <td>Andhra Pradesh</td>\n",
       "      <td>BE/B.Tech</td>\n",
       "      <td>8.3</td>\n",
       "      <td>489</td>\n",
       "      <td>Good</td>\n",
       "      <td>76000</td>\n",
       "    </tr>\n",
       "    <tr>\n",
       "      <th>437</th>\n",
       "      <td>Velaga Nageswara Rao College of Engineering - ...</td>\n",
       "      <td>Guntur</td>\n",
       "      <td>Andhra Pradesh</td>\n",
       "      <td>BE/B.Tech</td>\n",
       "      <td>8.3</td>\n",
       "      <td>489</td>\n",
       "      <td>Good</td>\n",
       "      <td>35000</td>\n",
       "    </tr>\n",
       "    <tr>\n",
       "      <th>438</th>\n",
       "      <td>G V R &amp; S College of Engineering &amp; Technology ...</td>\n",
       "      <td>Guntur</td>\n",
       "      <td>Andhra Pradesh</td>\n",
       "      <td>BE/B.Tech</td>\n",
       "      <td>8.3</td>\n",
       "      <td>489</td>\n",
       "      <td>Good</td>\n",
       "      <td>50200</td>\n",
       "    </tr>\n",
       "  </tbody>\n",
       "</table>\n",
       "<p>439 rows × 8 columns</p>\n",
       "</div>"
      ],
      "text/plain": [
       "                                          College_Name Location  \\\n",
       "0    IIT Madras - Indian Institute of Technology - ...  Chennai   \n",
       "1                   Indian Maritime University - [IMU]  Chennai   \n",
       "2                 Saveetha Engineering College - [SEC]  Chennai   \n",
       "3    B.S. Abdur Rahman Crescent Institute of Scienc...  Chennai   \n",
       "4               Saveetha School of Engineering - [SSE]  Chennai   \n",
       "..                                                 ...      ...   \n",
       "434  Malineni Perumallu Educational Society's Group...   Guntur   \n",
       "435          Chintalapudi Engineering College - [CECG]   Guntur   \n",
       "436  Vignan's Lara Institute of Technology & Scienc...   Guntur   \n",
       "437  Velaga Nageswara Rao College of Engineering - ...   Guntur   \n",
       "438  G V R & S College of Engineering & Technology ...   Guntur   \n",
       "\n",
       "               State     Course  Rating  No of Reviews Ratingsummary  \\\n",
       "0         Tamil Nadu  BE/B.Tech     8.7            246     Excellent   \n",
       "1         Tamil Nadu  BE/B.Tech     8.7            246     Excellent   \n",
       "2         Tamil Nadu  BE/B.Tech     8.7            246     Excellent   \n",
       "3         Tamil Nadu  BE/B.Tech     8.7            246     Excellent   \n",
       "4         Tamil Nadu  BE/B.Tech     8.7            246     Excellent   \n",
       "..               ...        ...     ...            ...           ...   \n",
       "434   Andhra Pradesh  BE/B.Tech     8.3            489          Good   \n",
       "435   Andhra Pradesh  BE/B.Tech     8.3            489          Good   \n",
       "436   Andhra Pradesh  BE/B.Tech     8.3            489          Good   \n",
       "437   Andhra Pradesh  BE/B.Tech     8.3            489          Good   \n",
       "438   Andhra Pradesh  BE/B.Tech     8.3            489          Good   \n",
       "\n",
       "     Course_Fee  \n",
       "0        209550  \n",
       "1        105000  \n",
       "2         85000  \n",
       "3         85000  \n",
       "4         45000  \n",
       "..          ...  \n",
       "434       35000  \n",
       "435       35000  \n",
       "436       76000  \n",
       "437       35000  \n",
       "438       50200  \n",
       "\n",
       "[439 rows x 8 columns]"
      ]
     },
     "execution_count": 33,
     "metadata": {},
     "output_type": "execute_result"
    }
   ],
   "source": [
    "dfcol"
   ]
  },
  {
   "cell_type": "markdown",
   "id": "2049f5d8",
   "metadata": {},
   "source": [
    "### Outliers"
   ]
  },
  {
   "cell_type": "code",
   "execution_count": 34,
   "id": "023cf4d2",
   "metadata": {},
   "outputs": [],
   "source": [
    "import matplotlib.pyplot as plt"
   ]
  },
  {
   "cell_type": "code",
   "execution_count": 35,
   "id": "c839ee44",
   "metadata": {},
   "outputs": [
    {
     "data": {
      "image/png": "[encoded data removed]",
      "text/plain": [
       "<Figure size 640x480 with 1 Axes>"
      ]
     },
     "metadata": {},
     "output_type": "display_data"
    }
   ],
   "source": [
    "plt.boxplot(dfcol[\"No of Reviews\"])\n",
    "plt.show()"
   ]
  },
  {
   "cell_type": "markdown",
   "id": "5f8dc84f",
   "metadata": {},
   "source": [
    "### from the above dataset, Reviews has a single outlier.we not detect the outlier, Because no of reviews may can be 1 to n number."
   ]
  },
  {
   "cell_type": "code",
   "execution_count": 36,
   "id": "1651759f",
   "metadata": {},
   "outputs": [
    {
     "data": {
      "image/png": "[encoded data removed]",
      "text/plain": [
       "<Figure size 640x480 with 1 Axes>"
      ]
     },
     "metadata": {},
     "output_type": "display_data"
    }
   ],
   "source": [
    "plt.boxplot(dfcol[\"Rating\"])\n",
    "plt.show()"
   ]
  },
  {
   "cell_type": "markdown",
   "id": "964712b0",
   "metadata": {},
   "source": [
    "### From the above boxplot, rating as no outliers "
   ]
  },
  {
   "cell_type": "code",
   "execution_count": 37,
   "id": "dcdab991",
   "metadata": {},
   "outputs": [
    {
     "data": {
      "image/png": "[encoded data removed]",
      "text/plain": [
       "<Figure size 640x480 with 1 Axes>"
      ]
     },
     "metadata": {},
     "output_type": "display_data"
    }
   ],
   "source": [
    "plt.boxplot(dfcol[\"Rating\"])\n",
    "plt.show()"
   ]
  },
  {
   "cell_type": "code",
   "execution_count": 38,
   "id": "1cc62687",
   "metadata": {},
   "outputs": [],
   "source": [
    "###from the above dataset, ratings has no outliers."
   ]
  },
  {
   "cell_type": "code",
   "execution_count": 39,
   "id": "90f70620",
   "metadata": {},
   "outputs": [
    {
     "data": {
      "image/png": "[encoded data removed]",
      "text/plain": [
       "<Figure size 640x480 with 1 Axes>"
      ]
     },
     "metadata": {},
     "output_type": "display_data"
    }
   ],
   "source": [
    "plt.boxplot(dfcol[\"Course_Fee\"])\n",
    "plt.show()"
   ]
  },
  {
   "cell_type": "markdown",
   "id": "e2493e89",
   "metadata": {},
   "source": [
    "### From the above boxplot , the Course_Fee column has more outliers. However, it may be challenging to detect these outliers as the course fee can vary based on the reputation and demand of the course in different cities."
   ]
  },
  {
   "cell_type": "markdown",
   "id": "ae42e81a",
   "metadata": {},
   "source": [
    "### ###Groupby base on the state which as highest Course_Fee"
   ]
  },
  {
   "cell_type": "code",
   "execution_count": 40,
   "id": "09a78161",
   "metadata": {},
   "outputs": [],
   "source": [
    "gb_state=dfcol.groupby(\"State\")"
   ]
  },
  {
   "cell_type": "code",
   "execution_count": 41,
   "id": "c0476119",
   "metadata": {},
   "outputs": [
    {
     "data": {
      "text/plain": [
       "<pandas.core.groupby.generic.DataFrameGroupBy object at 0x000001E0A140B9A0>"
      ]
     },
     "execution_count": 41,
     "metadata": {},
     "output_type": "execute_result"
    }
   ],
   "source": [
    "gb_state"
   ]
  },
  {
   "cell_type": "code",
   "execution_count": 42,
   "id": "c248a295",
   "metadata": {},
   "outputs": [
    {
     "data": {
      "text/plain": [
       "{' Andhra Pradesh': [410, 411, 412, 413, 414, 415, 416, 417, 418, 419, 420, 421, 422, 423, 424, 425, 426, 427, 428, 429, 430, 431, 432, 433, 434, 435, 436, 437, 438], ' Gujarat': [303, 304, 305, 306, 307, 308, 309, 310, 311, 312, 313, 314, 315, 316, 317, 318, 319, 320, 321, 322, 323, 324, 325, 326, 327, 328, 329], ' Karnataka': [116, 117, 118, 119, 120, 121, 122, 123, 124, 125, 126, 127, 128, 129, 130, 131, 132, 133, 134, 135, 136, 137, 138, 139, 140, 141, 142, 143], ' Kerala': [248, 249, 250, 251, 252, 253, 254, 255, 256, 257, 258, 259, 260, 261, 262, 263, 264, 265, 266, 267, 268, 269, 270, 271, 272, 273, 274, 275, 276, 277], ' Madhya Pradesh': [169, 170, 171, 172, 173, 174, 175, 176, 177, 178, 179, 180, 181, 182, 183, 184, 185, 186, 187, 188, 189, 190, 191, 192, 193, 194, 195, 196, 197, 384, 385, 386, 387, 388, 389, 390, 391, 392, 393, 394, 395, 396, 397, 398, 399, 400, 401, 402, 403, 404, 405, 406, 407, 408, 409], ' Maharashtra': [56, 57, 58, 59, 60, 61, 62, 63, 64, 65, 66, 67, 68, 69, 70, 71, 72, 73, 74, 75, 76, 77, 78, 79, 80, 81, 82, 83, 84, 85, 144, 145, 146, 147, 148, 149, 150, 151, 152, 153, 154, 155, 156, 157, 158, 159, 160, 161, 162, 163, 164, 165, 166, 167, 168, 330, 331, 332, 333, 334, 335, 336, 337, 338, 339, 340, 341, 342, 343, 344, 345, 346, 347, 348, 349, 350, 351, 352, 353, 354, 355], ' Orissa': [356, 357, 358, 359, 360, 361, 362, 363, 364, 365, 366, 367, 368, 369, 370, 371, 372, 373, 374, 375, 376, 377, 378, 379, 380, 381, 382, 383], ' Rajasthan': [198, 199, 200, 201, 202, 203, 204, 205, 206, 207, 208, 209, 210, 211, 212, 213, 214, 215, 216, 217, 218, 219, 220, 221, 222, 223], ' Tamil Nadu': [0, 1, 2, 3, 4, 5, 6, 7, 8, 9, 10, 11, 12, 13, 14, 15, 16, 17, 18, 19, 20, 21, 22, 23, 24, 25, 26, 86, 87, 88, 89, 90, 91, 92, 93, 94, 95, 96, 97, 98, 99, 100, 101, 102, 103, 104, 105, 106, 107, 108, 109, 110, 111, 112, 113, 114, 115], ' Telangana': [27, 28, 29, 30, 31, 32, 33, 34, 35, 36, 37, 38, 39, 40, 41, 42, 43, 44, 45, 46, 47, 48, 49, 50, 51, 52, 53, 54, 55], ' Uttar Pradesh': [224, 225, 226, 227, 228, 229, 230, 231, 232, 233, 234, 235, 236, 237, 238, 239, 240, 241, 242, 243, 244, 245, 246, 247], ' West Bengal': [278, 279, 280, 281, 282, 283, 284, 285, 286, 287, 288, 289, 290, 291, 292, 293, 294, 295, 296, 297, 298, 299, 300, 301, 302]}"
      ]
     },
     "execution_count": 42,
     "metadata": {},
     "output_type": "execute_result"
    }
   ],
   "source": [
    "gb_state.groups"
   ]
  },
  {
   "cell_type": "code",
   "execution_count": 43,
   "id": "e162ba02",
   "metadata": {
    "scrolled": true
   },
   "outputs": [
    {
     "data": {
      "text/plain": [
       " Maharashtra       81\n",
       " Tamil Nadu        57\n",
       " Madhya Pradesh    55\n",
       " Kerala            30\n",
       " Telangana         29\n",
       " Andhra Pradesh    29\n",
       " Karnataka         28\n",
       " Orissa            28\n",
       " Gujarat           27\n",
       " Rajasthan         26\n",
       " West Bengal       25\n",
       " Uttar Pradesh     24\n",
       "Name: State, dtype: int64"
      ]
     },
     "execution_count": 43,
     "metadata": {},
     "output_type": "execute_result"
    }
   ],
   "source": [
    "dfcol[\"State\"].value_counts()"
   ]
  },
  {
   "cell_type": "code",
   "execution_count": 44,
   "id": "257789c2",
   "metadata": {},
   "outputs": [],
   "source": [
    "gb_mah=gb_state.get_group(\" Maharashtra\")\n",
    "gb_mah[gb_mah[\"Course_Fee\"]==gb_mah[\"Course_Fee\"].max()]\n",
    "s1=gb_mah[gb_mah[\"Course_Fee\"]==gb_mah[\"Course_Fee\"].max()]\n",
    "gb_tn=gb_state.get_group(\" Tamil Nadu\")\n",
    "s2=gb_tn[gb_tn[\"Course_Fee\"]==gb_tn[\"Course_Fee\"].max()]\n",
    "gb_tl=gb_state.get_group(\" Telangana\")\n",
    "s3=gb_tl[gb_tl[\"Course_Fee\"]==gb_tl[\"Course_Fee\"].max()]\n",
    "gb_ka=gb_state.get_group(\" Karnataka\")\n",
    "s4=gb_ka[gb_ka[\"Course_Fee\"]==gb_ka[\"Course_Fee\"].max()]\n",
    "gb_MP=gb_state.get_group(\" Madhya Pradesh\")\n",
    "s5=gb_MP[gb_MP[\"Course_Fee\"]==gb_MP[\"Course_Fee\"].max()]\n",
    "gb_RJ=gb_state.get_group(\" Rajasthan\")\n",
    "s6=gb_RJ[gb_RJ[\"Course_Fee\"]==gb_RJ[\"Course_Fee\"].max()]\n",
    "gb_UP=gb_state.get_group(\" Uttar Pradesh\")\n",
    "s7=gb_UP[gb_UP[\"Course_Fee\"]==gb_UP[\"Course_Fee\"].max()]\n",
    "gb_KL=gb_state.get_group(\" Kerala\")\n",
    "s8=gb_KL[gb_KL[\"Course_Fee\"]==gb_KL[\"Course_Fee\"].max()]\n",
    "gb_WB=gb_state.get_group(\" West Bengal\")\n",
    "s9=gb_WB[gb_WB[\"Course_Fee\"]==gb_WB[\"Course_Fee\"].max()]\n",
    "gb_GJ=gb_state.get_group(\" Gujarat\")\n",
    "s10=gb_GJ[gb_GJ[\"Course_Fee\"]==gb_GJ[\"Course_Fee\"].max()]\n",
    "gb_OS=gb_state.get_group(\" Orissa\")\n",
    "s11=gb_OS[gb_OS[\"Course_Fee\"]==gb_OS[\"Course_Fee\"].max()]\n",
    "gb_AP=gb_state.get_group(\" Andhra Pradesh\")\n",
    "s12=gb_AP[gb_AP[\"Course_Fee\"]==gb_AP[\"Course_Fee\"].max()]"
   ]
  },
  {
   "cell_type": "markdown",
   "id": "43e3237e",
   "metadata": {},
   "source": [
    "### Concate all State wise high Course_Fee which was collect by doing groupby\n"
   ]
  },
  {
   "cell_type": "code",
   "execution_count": 82,
   "id": "1709dfce",
   "metadata": {},
   "outputs": [],
   "source": [
    "State_Fee=pd.concat([s1,s2,s3,s4,s5,s6,s7,s8,s9,s10,s11,s12])"
   ]
  },
  {
   "cell_type": "code",
   "execution_count": 83,
   "id": "f18dab36",
   "metadata": {},
   "outputs": [
    {
     "data": {
      "text/html": [
       "<div>\n",
       "<style scoped>\n",
       "    .dataframe tbody tr th:only-of-type {\n",
       "        vertical-align: middle;\n",
       "    }\n",
       "\n",
       "    .dataframe tbody tr th {\n",
       "        vertical-align: top;\n",
       "    }\n",
       "\n",
       "    .dataframe thead th {\n",
       "        text-align: right;\n",
       "    }\n",
       "</style>\n",
       "<table border=\"1\" class=\"dataframe\">\n",
       "  <thead>\n",
       "    <tr style=\"text-align: right;\">\n",
       "      <th></th>\n",
       "      <th>College_Name</th>\n",
       "      <th>Location</th>\n",
       "      <th>State</th>\n",
       "      <th>Course</th>\n",
       "      <th>Rating</th>\n",
       "      <th>No of Reviews</th>\n",
       "      <th>Ratingsummary</th>\n",
       "      <th>Course_Fee</th>\n",
       "    </tr>\n",
       "  </thead>\n",
       "  <tbody>\n",
       "    <tr>\n",
       "      <th>151</th>\n",
       "      <td>International School of Engineering - [INSOFE]</td>\n",
       "      <td>Mumbai</td>\n",
       "      <td>Maharashtra</td>\n",
       "      <td>ME/M.Tech</td>\n",
       "      <td>8.8</td>\n",
       "      <td>255</td>\n",
       "      <td>Excellent</td>\n",
       "      <td>4184831</td>\n",
       "    </tr>\n",
       "    <tr>\n",
       "      <th>91</th>\n",
       "      <td>SNS College of Engineering - [SNSCE]</td>\n",
       "      <td>Coimbatore</td>\n",
       "      <td>Tamil Nadu</td>\n",
       "      <td>BE/B.Tech</td>\n",
       "      <td>8.8</td>\n",
       "      <td>99</td>\n",
       "      <td>Excellent</td>\n",
       "      <td>300000</td>\n",
       "    </tr>\n",
       "    <tr>\n",
       "      <th>106</th>\n",
       "      <td>Amrita Vishwa Vidyapeetham</td>\n",
       "      <td>Coimbatore</td>\n",
       "      <td>Tamil Nadu</td>\n",
       "      <td>BE/B.Tech</td>\n",
       "      <td>8.8</td>\n",
       "      <td>99</td>\n",
       "      <td>Excellent</td>\n",
       "      <td>300000</td>\n",
       "    </tr>\n",
       "    <tr>\n",
       "      <th>50</th>\n",
       "      <td>Mahindra University</td>\n",
       "      <td>Hyderabad</td>\n",
       "      <td>Telangana</td>\n",
       "      <td>BE/B.Tech</td>\n",
       "      <td>8.6</td>\n",
       "      <td>90</td>\n",
       "      <td>Excellent</td>\n",
       "      <td>470000</td>\n",
       "    </tr>\n",
       "    <tr>\n",
       "      <th>116</th>\n",
       "      <td>R V College of Engineering - [RVCE]</td>\n",
       "      <td>Bangalore</td>\n",
       "      <td>Karnataka</td>\n",
       "      <td>BE/B.Tech</td>\n",
       "      <td>7.9</td>\n",
       "      <td>294</td>\n",
       "      <td>Fair</td>\n",
       "      <td>1900000</td>\n",
       "    </tr>\n",
       "    <tr>\n",
       "      <th>188</th>\n",
       "      <td>Sagar Group of Institutions</td>\n",
       "      <td>Bhopal</td>\n",
       "      <td>Madhya Pradesh</td>\n",
       "      <td>BE/B.Tech</td>\n",
       "      <td>7.9</td>\n",
       "      <td>353</td>\n",
       "      <td>Fair</td>\n",
       "      <td>340000</td>\n",
       "    </tr>\n",
       "    <tr>\n",
       "      <th>211</th>\n",
       "      <td>Jaipur National University - [JNU]</td>\n",
       "      <td>Jaipur</td>\n",
       "      <td>Rajasthan</td>\n",
       "      <td>BE/B.Tech</td>\n",
       "      <td>8.4</td>\n",
       "      <td>353</td>\n",
       "      <td>Good</td>\n",
       "      <td>486000</td>\n",
       "    </tr>\n",
       "    <tr>\n",
       "      <th>234</th>\n",
       "      <td>Indian Institute of Information Technology - [...</td>\n",
       "      <td>Lucknow</td>\n",
       "      <td>Uttar Pradesh</td>\n",
       "      <td>BE/B.Tech</td>\n",
       "      <td>7.9</td>\n",
       "      <td>198</td>\n",
       "      <td>Fair</td>\n",
       "      <td>269700</td>\n",
       "    </tr>\n",
       "    <tr>\n",
       "      <th>263</th>\n",
       "      <td>College of Engineering</td>\n",
       "      <td>Thiruvananthapuram</td>\n",
       "      <td>Kerala</td>\n",
       "      <td>BE/B.Tech</td>\n",
       "      <td>8.4</td>\n",
       "      <td>44</td>\n",
       "      <td>Good</td>\n",
       "      <td>200000</td>\n",
       "    </tr>\n",
       "    <tr>\n",
       "      <th>293</th>\n",
       "      <td>Techno India University</td>\n",
       "      <td>Kolkata</td>\n",
       "      <td>West Bengal</td>\n",
       "      <td>BE/B.Tech</td>\n",
       "      <td>8.5</td>\n",
       "      <td>662</td>\n",
       "      <td>Good</td>\n",
       "      <td>632000</td>\n",
       "    </tr>\n",
       "    <tr>\n",
       "      <th>318</th>\n",
       "      <td>CEPT University</td>\n",
       "      <td>Ahmedabad</td>\n",
       "      <td>Gujarat</td>\n",
       "      <td>ME/M.Tech</td>\n",
       "      <td>8.3</td>\n",
       "      <td>64</td>\n",
       "      <td>Good</td>\n",
       "      <td>378000</td>\n",
       "    </tr>\n",
       "    <tr>\n",
       "      <th>383</th>\n",
       "      <td>Gandhi Institute of Technology and Management ...</td>\n",
       "      <td>Bhubaneswar</td>\n",
       "      <td>Orissa</td>\n",
       "      <td>BE/B.Tech</td>\n",
       "      <td>8.3</td>\n",
       "      <td>67</td>\n",
       "      <td>Good</td>\n",
       "      <td>650000</td>\n",
       "    </tr>\n",
       "    <tr>\n",
       "      <th>410</th>\n",
       "      <td>K L University - [KLU]</td>\n",
       "      <td>Guntur</td>\n",
       "      <td>Andhra Pradesh</td>\n",
       "      <td>BE/B.Tech</td>\n",
       "      <td>8.3</td>\n",
       "      <td>489</td>\n",
       "      <td>Good</td>\n",
       "      <td>240000</td>\n",
       "    </tr>\n",
       "  </tbody>\n",
       "</table>\n",
       "</div>"
      ],
      "text/plain": [
       "                                          College_Name            Location  \\\n",
       "151     International School of Engineering - [INSOFE]              Mumbai   \n",
       "91                SNS College of Engineering - [SNSCE]          Coimbatore   \n",
       "106                         Amrita Vishwa Vidyapeetham          Coimbatore   \n",
       "50                                 Mahindra University           Hyderabad   \n",
       "116                R V College of Engineering - [RVCE]           Bangalore   \n",
       "188                        Sagar Group of Institutions              Bhopal   \n",
       "211                 Jaipur National University - [JNU]              Jaipur   \n",
       "234  Indian Institute of Information Technology - [...             Lucknow   \n",
       "263                             College of Engineering  Thiruvananthapuram   \n",
       "293                            Techno India University             Kolkata   \n",
       "318                                    CEPT University           Ahmedabad   \n",
       "383  Gandhi Institute of Technology and Management ...         Bhubaneswar   \n",
       "410                             K L University - [KLU]              Guntur   \n",
       "\n",
       "               State     Course  Rating  No of Reviews Ratingsummary  \\\n",
       "151      Maharashtra  ME/M.Tech     8.8            255     Excellent   \n",
       "91        Tamil Nadu  BE/B.Tech     8.8             99     Excellent   \n",
       "106       Tamil Nadu  BE/B.Tech     8.8             99     Excellent   \n",
       "50         Telangana  BE/B.Tech     8.6             90     Excellent   \n",
       "116        Karnataka  BE/B.Tech     7.9            294          Fair   \n",
       "188   Madhya Pradesh  BE/B.Tech     7.9            353          Fair   \n",
       "211        Rajasthan  BE/B.Tech     8.4            353          Good   \n",
       "234    Uttar Pradesh  BE/B.Tech     7.9            198          Fair   \n",
       "263           Kerala  BE/B.Tech     8.4             44          Good   \n",
       "293      West Bengal  BE/B.Tech     8.5            662          Good   \n",
       "318          Gujarat  ME/M.Tech     8.3             64          Good   \n",
       "383           Orissa  BE/B.Tech     8.3             67          Good   \n",
       "410   Andhra Pradesh  BE/B.Tech     8.3            489          Good   \n",
       "\n",
       "     Course_Fee  \n",
       "151     4184831  \n",
       "91       300000  \n",
       "106      300000  \n",
       "50       470000  \n",
       "116     1900000  \n",
       "188      340000  \n",
       "211      486000  \n",
       "234      269700  \n",
       "263      200000  \n",
       "293      632000  \n",
       "318      378000  \n",
       "383      650000  \n",
       "410      240000  "
      ]
     },
     "execution_count": 83,
     "metadata": {},
     "output_type": "execute_result"
    }
   ],
   "source": [
    "State_Fee=pd.concat([s1,s2,s3,s4,s5,s6,s7,s8,s9,s10,s11,s12])\n",
    "State_Fee"
   ]
  },
  {
   "cell_type": "code",
   "execution_count": 88,
   "id": "adc964c8",
   "metadata": {},
   "outputs": [
    {
     "data": {
      "text/html": [
       "<div>\n",
       "<style scoped>\n",
       "    .dataframe tbody tr th:only-of-type {\n",
       "        vertical-align: middle;\n",
       "    }\n",
       "\n",
       "    .dataframe tbody tr th {\n",
       "        vertical-align: top;\n",
       "    }\n",
       "\n",
       "    .dataframe thead th {\n",
       "        text-align: right;\n",
       "    }\n",
       "</style>\n",
       "<table border=\"1\" class=\"dataframe\">\n",
       "  <thead>\n",
       "    <tr style=\"text-align: right;\">\n",
       "      <th></th>\n",
       "      <th>College_Name</th>\n",
       "      <th>Location</th>\n",
       "      <th>State</th>\n",
       "      <th>Course</th>\n",
       "      <th>Rating</th>\n",
       "      <th>No of Reviews</th>\n",
       "      <th>Ratingsummary</th>\n",
       "      <th>Course_Fee</th>\n",
       "    </tr>\n",
       "  </thead>\n",
       "  <tbody>\n",
       "    <tr>\n",
       "      <th>151</th>\n",
       "      <td>International School of Engineering - [INSOFE]</td>\n",
       "      <td>Mumbai</td>\n",
       "      <td>Maharashtra</td>\n",
       "      <td>ME/M.Tech</td>\n",
       "      <td>8.8</td>\n",
       "      <td>255</td>\n",
       "      <td>Excellent</td>\n",
       "      <td>4184831</td>\n",
       "    </tr>\n",
       "    <tr>\n",
       "      <th>91</th>\n",
       "      <td>SNS College of Engineering - [SNSCE]</td>\n",
       "      <td>Coimbatore</td>\n",
       "      <td>Tamil Nadu</td>\n",
       "      <td>BE/B.Tech</td>\n",
       "      <td>8.8</td>\n",
       "      <td>99</td>\n",
       "      <td>Excellent</td>\n",
       "      <td>300000</td>\n",
       "    </tr>\n",
       "    <tr>\n",
       "      <th>106</th>\n",
       "      <td>Amrita Vishwa Vidyapeetham</td>\n",
       "      <td>Coimbatore</td>\n",
       "      <td>Tamil Nadu</td>\n",
       "      <td>BE/B.Tech</td>\n",
       "      <td>8.8</td>\n",
       "      <td>99</td>\n",
       "      <td>Excellent</td>\n",
       "      <td>300000</td>\n",
       "    </tr>\n",
       "    <tr>\n",
       "      <th>50</th>\n",
       "      <td>Mahindra University</td>\n",
       "      <td>Hyderabad</td>\n",
       "      <td>Telangana</td>\n",
       "      <td>BE/B.Tech</td>\n",
       "      <td>8.6</td>\n",
       "      <td>90</td>\n",
       "      <td>Excellent</td>\n",
       "      <td>470000</td>\n",
       "    </tr>\n",
       "  </tbody>\n",
       "</table>\n",
       "</div>"
      ],
      "text/plain": [
       "                                       College_Name    Location         State  \\\n",
       "151  International School of Engineering - [INSOFE]      Mumbai   Maharashtra   \n",
       "91             SNS College of Engineering - [SNSCE]  Coimbatore    Tamil Nadu   \n",
       "106                      Amrita Vishwa Vidyapeetham  Coimbatore    Tamil Nadu   \n",
       "50                              Mahindra University   Hyderabad     Telangana   \n",
       "\n",
       "        Course  Rating  No of Reviews Ratingsummary  Course_Fee  \n",
       "151  ME/M.Tech     8.8            255     Excellent     4184831  \n",
       "91   BE/B.Tech     8.8             99     Excellent      300000  \n",
       "106  BE/B.Tech     8.8             99     Excellent      300000  \n",
       "50   BE/B.Tech     8.6             90     Excellent      470000  "
      ]
     },
     "execution_count": 88,
     "metadata": {},
     "output_type": "execute_result"
    }
   ],
   "source": [
    "State_Fee=pd.concat([s1,s2,s3,s4,s5,s6,s7,s8,s9,s10,s11,s12])\n",
    "State_Fee[State_Fee[\"Ratingsummary\"]==\"Excellent\"]\n"
   ]
  },
  {
   "cell_type": "code",
   "execution_count": 86,
   "id": "6c233264",
   "metadata": {
    "scrolled": true
   },
   "outputs": [
    {
     "data": {
      "text/plain": [
       "College_Name     SNS College of Engineering - [SNSCE]\n",
       "Location                                       Mumbai\n",
       "State                                       Telangana\n",
       "Course                                      ME/M.Tech\n",
       "Rating                                            8.8\n",
       "No of Reviews                                     294\n",
       "Ratingsummary                                    Fair\n",
       "Course_Fee                                    4184831\n",
       "dtype: object"
      ]
     },
     "execution_count": 86,
     "metadata": {},
     "output_type": "execute_result"
    }
   ],
   "source": [
    "State_Fee=pd.concat([s1,s2,s3,s4,s5,s6,s7,s8,s9,s10,s11,s12]).head()\n",
    "State_Fee.max()"
   ]
  },
  {
   "cell_type": "code",
   "execution_count": 46,
   "id": "0d3b9682",
   "metadata": {},
   "outputs": [],
   "source": [
    "import seaborn as sns"
   ]
  },
  {
   "cell_type": "code",
   "execution_count": 47,
   "id": "a213344b",
   "metadata": {},
   "outputs": [
    {
     "data": {
      "text/plain": [
       "<AxesSubplot:xlabel='Rating', ylabel='Course_Fee'>"
      ]
     },
     "execution_count": 47,
     "metadata": {},
     "output_type": "execute_result"
    },
    {
     "data": {
      "image/png": "[encoded data removed]",
      "text/plain": [
       "<Figure size 1600x800 with 1 Axes>"
      ]
     },
     "metadata": {},
     "output_type": "display_data"
    }
   ],
   "source": [
    "plt.figure(figsize=(16,8))\n",
    "\n",
    "sns.scatterplot(x=\"Rating\", y=\"Course_Fee\", data = State_Fee, hue=\"State\")"
   ]
  },
  {
   "cell_type": "markdown",
   "id": "26949acc",
   "metadata": {},
   "source": [
    "### for above scatter we are observed that maharashtra as the high Course_Fee compared to other State and Andhra Pradesh as less Course_Fee "
   ]
  },
  {
   "cell_type": "code",
   "execution_count": 48,
   "id": "ff9bdf4c",
   "metadata": {},
   "outputs": [
    {
     "data": {
      "text/html": [
       "<div>\n",
       "<style scoped>\n",
       "    .dataframe tbody tr th:only-of-type {\n",
       "        vertical-align: middle;\n",
       "    }\n",
       "\n",
       "    .dataframe tbody tr th {\n",
       "        vertical-align: top;\n",
       "    }\n",
       "\n",
       "    .dataframe thead th {\n",
       "        text-align: right;\n",
       "    }\n",
       "</style>\n",
       "<table border=\"1\" class=\"dataframe\">\n",
       "  <thead>\n",
       "    <tr style=\"text-align: right;\">\n",
       "      <th></th>\n",
       "      <th>College_Name</th>\n",
       "      <th>Location</th>\n",
       "      <th>State</th>\n",
       "      <th>Course</th>\n",
       "      <th>Rating</th>\n",
       "      <th>No of Reviews</th>\n",
       "      <th>Ratingsummary</th>\n",
       "      <th>Course_Fee</th>\n",
       "    </tr>\n",
       "  </thead>\n",
       "  <tbody>\n",
       "    <tr>\n",
       "      <th>0</th>\n",
       "      <td>IIT Madras - Indian Institute of Technology - ...</td>\n",
       "      <td>Chennai</td>\n",
       "      <td>Tamil Nadu</td>\n",
       "      <td>BE/B.Tech</td>\n",
       "      <td>8.7</td>\n",
       "      <td>246</td>\n",
       "      <td>Excellent</td>\n",
       "      <td>209550</td>\n",
       "    </tr>\n",
       "    <tr>\n",
       "      <th>1</th>\n",
       "      <td>Indian Maritime University - [IMU]</td>\n",
       "      <td>Chennai</td>\n",
       "      <td>Tamil Nadu</td>\n",
       "      <td>BE/B.Tech</td>\n",
       "      <td>8.7</td>\n",
       "      <td>246</td>\n",
       "      <td>Excellent</td>\n",
       "      <td>105000</td>\n",
       "    </tr>\n",
       "    <tr>\n",
       "      <th>2</th>\n",
       "      <td>Saveetha Engineering College - [SEC]</td>\n",
       "      <td>Chennai</td>\n",
       "      <td>Tamil Nadu</td>\n",
       "      <td>BE/B.Tech</td>\n",
       "      <td>8.7</td>\n",
       "      <td>246</td>\n",
       "      <td>Excellent</td>\n",
       "      <td>85000</td>\n",
       "    </tr>\n",
       "    <tr>\n",
       "      <th>3</th>\n",
       "      <td>B.S. Abdur Rahman Crescent Institute of Scienc...</td>\n",
       "      <td>Chennai</td>\n",
       "      <td>Tamil Nadu</td>\n",
       "      <td>BE/B.Tech</td>\n",
       "      <td>8.7</td>\n",
       "      <td>246</td>\n",
       "      <td>Excellent</td>\n",
       "      <td>85000</td>\n",
       "    </tr>\n",
       "    <tr>\n",
       "      <th>4</th>\n",
       "      <td>Saveetha School of Engineering - [SSE]</td>\n",
       "      <td>Chennai</td>\n",
       "      <td>Tamil Nadu</td>\n",
       "      <td>BE/B.Tech</td>\n",
       "      <td>8.7</td>\n",
       "      <td>246</td>\n",
       "      <td>Excellent</td>\n",
       "      <td>45000</td>\n",
       "    </tr>\n",
       "    <tr>\n",
       "      <th>...</th>\n",
       "      <td>...</td>\n",
       "      <td>...</td>\n",
       "      <td>...</td>\n",
       "      <td>...</td>\n",
       "      <td>...</td>\n",
       "      <td>...</td>\n",
       "      <td>...</td>\n",
       "      <td>...</td>\n",
       "    </tr>\n",
       "    <tr>\n",
       "      <th>434</th>\n",
       "      <td>Malineni Perumallu Educational Society's Group...</td>\n",
       "      <td>Guntur</td>\n",
       "      <td>Andhra Pradesh</td>\n",
       "      <td>BE/B.Tech</td>\n",
       "      <td>8.3</td>\n",
       "      <td>489</td>\n",
       "      <td>Good</td>\n",
       "      <td>35000</td>\n",
       "    </tr>\n",
       "    <tr>\n",
       "      <th>435</th>\n",
       "      <td>Chintalapudi Engineering College - [CECG]</td>\n",
       "      <td>Guntur</td>\n",
       "      <td>Andhra Pradesh</td>\n",
       "      <td>BE/B.Tech</td>\n",
       "      <td>8.3</td>\n",
       "      <td>489</td>\n",
       "      <td>Good</td>\n",
       "      <td>35000</td>\n",
       "    </tr>\n",
       "    <tr>\n",
       "      <th>436</th>\n",
       "      <td>Vignan's Lara Institute of Technology &amp; Scienc...</td>\n",
       "      <td>Guntur</td>\n",
       "      <td>Andhra Pradesh</td>\n",
       "      <td>BE/B.Tech</td>\n",
       "      <td>8.3</td>\n",
       "      <td>489</td>\n",
       "      <td>Good</td>\n",
       "      <td>76000</td>\n",
       "    </tr>\n",
       "    <tr>\n",
       "      <th>437</th>\n",
       "      <td>Velaga Nageswara Rao College of Engineering - ...</td>\n",
       "      <td>Guntur</td>\n",
       "      <td>Andhra Pradesh</td>\n",
       "      <td>BE/B.Tech</td>\n",
       "      <td>8.3</td>\n",
       "      <td>489</td>\n",
       "      <td>Good</td>\n",
       "      <td>35000</td>\n",
       "    </tr>\n",
       "    <tr>\n",
       "      <th>438</th>\n",
       "      <td>G V R &amp; S College of Engineering &amp; Technology ...</td>\n",
       "      <td>Guntur</td>\n",
       "      <td>Andhra Pradesh</td>\n",
       "      <td>BE/B.Tech</td>\n",
       "      <td>8.3</td>\n",
       "      <td>489</td>\n",
       "      <td>Good</td>\n",
       "      <td>50200</td>\n",
       "    </tr>\n",
       "  </tbody>\n",
       "</table>\n",
       "<p>439 rows × 8 columns</p>\n",
       "</div>"
      ],
      "text/plain": [
       "                                          College_Name Location  \\\n",
       "0    IIT Madras - Indian Institute of Technology - ...  Chennai   \n",
       "1                   Indian Maritime University - [IMU]  Chennai   \n",
       "2                 Saveetha Engineering College - [SEC]  Chennai   \n",
       "3    B.S. Abdur Rahman Crescent Institute of Scienc...  Chennai   \n",
       "4               Saveetha School of Engineering - [SSE]  Chennai   \n",
       "..                                                 ...      ...   \n",
       "434  Malineni Perumallu Educational Society's Group...   Guntur   \n",
       "435          Chintalapudi Engineering College - [CECG]   Guntur   \n",
       "436  Vignan's Lara Institute of Technology & Scienc...   Guntur   \n",
       "437  Velaga Nageswara Rao College of Engineering - ...   Guntur   \n",
       "438  G V R & S College of Engineering & Technology ...   Guntur   \n",
       "\n",
       "               State     Course  Rating  No of Reviews Ratingsummary  \\\n",
       "0         Tamil Nadu  BE/B.Tech     8.7            246     Excellent   \n",
       "1         Tamil Nadu  BE/B.Tech     8.7            246     Excellent   \n",
       "2         Tamil Nadu  BE/B.Tech     8.7            246     Excellent   \n",
       "3         Tamil Nadu  BE/B.Tech     8.7            246     Excellent   \n",
       "4         Tamil Nadu  BE/B.Tech     8.7            246     Excellent   \n",
       "..               ...        ...     ...            ...           ...   \n",
       "434   Andhra Pradesh  BE/B.Tech     8.3            489          Good   \n",
       "435   Andhra Pradesh  BE/B.Tech     8.3            489          Good   \n",
       "436   Andhra Pradesh  BE/B.Tech     8.3            489          Good   \n",
       "437   Andhra Pradesh  BE/B.Tech     8.3            489          Good   \n",
       "438   Andhra Pradesh  BE/B.Tech     8.3            489          Good   \n",
       "\n",
       "     Course_Fee  \n",
       "0        209550  \n",
       "1        105000  \n",
       "2         85000  \n",
       "3         85000  \n",
       "4         45000  \n",
       "..          ...  \n",
       "434       35000  \n",
       "435       35000  \n",
       "436       76000  \n",
       "437       35000  \n",
       "438       50200  \n",
       "\n",
       "[439 rows x 8 columns]"
      ]
     },
     "execution_count": 48,
     "metadata": {},
     "output_type": "execute_result"
    }
   ],
   "source": [
    "dfcol"
   ]
  },
  {
   "cell_type": "markdown",
   "id": "65973313",
   "metadata": {},
   "source": [
    "### Univariate"
   ]
  },
  {
   "cell_type": "code",
   "execution_count": 49,
   "id": "9915fb11",
   "metadata": {},
   "outputs": [
    {
     "data": {
      "image/png": "[encoded data removed]",
      "text/plain": [
       "<Figure size 640x480 with 1 Axes>"
      ]
     },
     "metadata": {},
     "output_type": "display_data"
    }
   ],
   "source": [
    "plt.pie(dfcol[\"Ratingsummary\"].value_counts(), explode=[0.04,0.03,0.02], autopct=\"%0.2F%%\",labels=dfcol[\"Ratingsummary\"].unique())\n",
    "plt.show()"
   ]
  },
  {
   "cell_type": "markdown",
   "id": "7f6ee26f",
   "metadata": {},
   "source": [
    "### From the above piechart  most of the colleges are Excellent and follwed by Fair and few are Good"
   ]
  },
  {
   "cell_type": "code",
   "execution_count": 50,
   "id": "dda05718",
   "metadata": {},
   "outputs": [
    {
     "data": {
      "image/png": "[encoded data removed]",
      "text/plain": [
       "<Figure size 640x480 with 1 Axes>"
      ]
     },
     "metadata": {},
     "output_type": "display_data"
    }
   ],
   "source": [
    "plt.hist(dfcol[\"State\"],bins=12,rwidth=0.5,ec = \"red\",orientation='horizontal')\n",
    "plt.show()"
   ]
  },
  {
   "cell_type": "markdown",
   "id": "a0a3c2bc",
   "metadata": {},
   "source": [
    "### From the above hist graph Highest college are in maharahtra , next highest are Tamil Nadu, Madhya pradesh and Lowest colleges in Uttar Pradesh"
   ]
  },
  {
   "cell_type": "code",
   "execution_count": 51,
   "id": "719a168b",
   "metadata": {},
   "outputs": [
    {
     "data": {
      "text/plain": [
       "<AxesSubplot:xlabel='Ratingsummary', ylabel='count'>"
      ]
     },
     "execution_count": 51,
     "metadata": {},
     "output_type": "execute_result"
    },
    {
     "data": {
      "image/png": "[encoded data removed]",
      "text/plain": [
       "<Figure size 640x480 with 1 Axes>"
      ]
     },
     "metadata": {},
     "output_type": "display_data"
    }
   ],
   "source": [
    "sns.countplot(dfcol[\"Ratingsummary\"])"
   ]
  },
  {
   "cell_type": "code",
   "execution_count": 52,
   "id": "ceccb075",
   "metadata": {},
   "outputs": [],
   "source": [
    "from scipy.stats import norm"
   ]
  },
  {
   "cell_type": "code",
   "execution_count": 53,
   "id": "50187c81",
   "metadata": {},
   "outputs": [
    {
     "data": {
      "text/plain": [
       "<AxesSubplot:xlabel='Course_Fee', ylabel='Density'>"
      ]
     },
     "execution_count": 53,
     "metadata": {},
     "output_type": "execute_result"
    },
    {
     "data": {
      "image/png": "[encoded data removed]",
      "text/plain": [
       "<Figure size 640x480 with 1 Axes>"
      ]
     },
     "metadata": {},
     "output_type": "display_data"
    }
   ],
   "source": [
    "sns.distplot(dfcol[\"Course_Fee\"],bins=5,fit=norm) # default bin was 5"
   ]
  },
  {
   "cell_type": "markdown",
   "id": "983731f0",
   "metadata": {},
   "source": [
    "### from the above Dinsity Graph more number course_fee is in Between of 1-10 Lakhs"
   ]
  },
  {
   "cell_type": "code",
   "execution_count": 54,
   "id": "ba7b8290",
   "metadata": {},
   "outputs": [
    {
     "data": {
      "image/png": "[encoded data removed]",
      "text/plain": [
       "<Figure size 640x480 with 1 Axes>"
      ]
     },
     "metadata": {},
     "output_type": "display_data"
    }
   ],
   "source": [
    "plt.hist(dfcol[\"No of Reviews\"])\n",
    "plt.show()"
   ]
  },
  {
   "cell_type": "markdown",
   "id": "cf923585",
   "metadata": {},
   "source": [
    "### From the above Hist review are more in between 1-100 as compared to others "
   ]
  },
  {
   "cell_type": "code",
   "execution_count": 55,
   "id": "2fc2603f",
   "metadata": {},
   "outputs": [
    {
     "data": {
      "image/png": "[encoded data removed]",
      "text/plain": [
       "<Figure size 640x480 with 1 Axes>"
      ]
     },
     "metadata": {},
     "output_type": "display_data"
    }
   ],
   "source": [
    "plt.hist(dfcol[\"Rating\"])\n",
    "plt.show()"
   ]
  },
  {
   "cell_type": "markdown",
   "id": "110287c9",
   "metadata": {},
   "source": [
    "### from the above hist graph distribution of rating is high in between 8.2 to 8.4 and low are in between 8.0 to 8.2"
   ]
  },
  {
   "cell_type": "markdown",
   "id": "d0000e8c",
   "metadata": {},
   "source": [
    "### By-Variant"
   ]
  },
  {
   "cell_type": "code",
   "execution_count": 65,
   "id": "56c53401",
   "metadata": {},
   "outputs": [
    {
     "data": {
      "text/plain": [
       "<AxesSubplot:xlabel='Rating', ylabel='Course'>"
      ]
     },
     "execution_count": 65,
     "metadata": {},
     "output_type": "execute_result"
    },
    {
     "data": {
      "image/png": "[encoded data removed]",
      "text/plain": [
       "<Figure size 640x480 with 1 Axes>"
      ]
     },
     "metadata": {},
     "output_type": "display_data"
    }
   ],
   "source": [
    "sns.boxplot(x = \"Rating\", y = \"Course\", data = dfcol,showmeans=True)"
   ]
  },
  {
   "cell_type": "markdown",
   "id": "2f746e8a",
   "metadata": {},
   "source": [
    "### The boxplot illustrates  that the Diploma in Engineering program has only one rating below 8.0, while the PG Diploma in Engineering, program has the highest rating of 8.8 among all programs"
   ]
  },
  {
   "cell_type": "code",
   "execution_count": 57,
   "id": "91059241",
   "metadata": {},
   "outputs": [
    {
     "data": {
      "text/plain": [
       "<AxesSubplot:xlabel='Course_Fee', ylabel='Location'>"
      ]
     },
     "execution_count": 57,
     "metadata": {},
     "output_type": "execute_result"
    },
    {
     "data": {
      "image/png": "[encoded data removed]",
      "text/plain": [
       "<Figure size 640x480 with 1 Axes>"
      ]
     },
     "metadata": {},
     "output_type": "display_data"
    }
   ],
   "source": [
    "sns.barplot(y = dfcol[\"Location\"], x=dfcol[\"Course_Fee\"],errwidth=1)"
   ]
  },
  {
   "cell_type": "markdown",
   "id": "0d91a996",
   "metadata": {},
   "source": [
    "### From the above bar plot Bangalore has high course_fee and Guntur has low course_fee."
   ]
  },
  {
   "cell_type": "code",
   "execution_count": 75,
   "id": "9f8572f7",
   "metadata": {},
   "outputs": [
    {
     "data": {
      "text/plain": [
       "<AxesSubplot:xlabel='Rating', ylabel='No of Reviews'>"
      ]
     },
     "execution_count": 75,
     "metadata": {},
     "output_type": "execute_result"
    },
    {
     "data": {
      "image/png": "[encoded data removed]",
      "text/plain": [
       "<Figure size 1600x800 with 1 Axes>"
      ]
     },
     "metadata": {},
     "output_type": "display_data"
    }
   ],
   "source": [
    "plt.figure(figsize=(16,8))\n",
    "sns.scatterplot(x=\"Rating\", y=\"No of Reviews\", data = dfcol, hue=\"Course_Fee\")"
   ]
  },
  {
   "cell_type": "markdown",
   "id": "ce0a6429",
   "metadata": {},
   "source": [
    "### from this Scatterplot we compare the two columns no of reviews and Course_Fee"
   ]
  },
  {
   "cell_type": "markdown",
   "id": "38c73b59",
   "metadata": {},
   "source": [
    "### Multi-Variant"
   ]
  },
  {
   "cell_type": "code",
   "execution_count": 59,
   "id": "fbdb02f2",
   "metadata": {},
   "outputs": [
    {
     "data": {
      "text/plain": [
       "<seaborn.axisgrid.JointGrid at 0x1e0a41d6430>"
      ]
     },
     "execution_count": 59,
     "metadata": {},
     "output_type": "execute_result"
    },
    {
     "data": {
      "image/png": "[encoded data removed]",
      "text/plain": [
       "<Figure size 600x600 with 3 Axes>"
      ]
     },
     "metadata": {},
     "output_type": "display_data"
    }
   ],
   "source": [
    "sns.jointplot(dfcol[\"No of Reviews\"],dfcol[\"Course_Fee\"],hue=dfcol[\"Ratingsummary\"])"
   ]
  },
  {
   "cell_type": "markdown",
   "id": "9ba30e08",
   "metadata": {},
   "source": [
    "### The jointplot indicate that the majority of reviews are rated between 200 & 400, with most failing within this range. One review received an \"Excellent rating with a score above 4.\""
   ]
  },
  {
   "cell_type": "code",
   "execution_count": 61,
   "id": "63c17535",
   "metadata": {},
   "outputs": [
    {
     "data": {
      "image/png": "[encoded data removed]",
      "text/plain": [
       "<Figure size 750x750 with 12 Axes>"
      ]
     },
     "metadata": {},
     "output_type": "display_data"
    }
   ],
   "source": [
    "g = sns.pairplot(dfcol, vars=[\"No of Reviews\", \"Rating\",\"Course_Fee\"])"
   ]
  },
  {
   "cell_type": "code",
   "execution_count": 62,
   "id": "f0757913",
   "metadata": {},
   "outputs": [
    {
     "data": {
      "image/png": "[encoded data removed]",
      "text/plain": [
       "<Figure size 750x750 with 12 Axes>"
      ]
     },
     "metadata": {},
     "output_type": "display_data"
    }
   ],
   "source": [
    "g=sns.pairplot(dfcol, diag_kind=\"kde\")"
   ]
  },
  {
   "cell_type": "markdown",
   "id": "6dc21ee6",
   "metadata": {},
   "source": [
    "### All numberic columns are anlysis using paiplot"
   ]
  },
  {
   "cell_type": "code",
   "execution_count": 63,
   "id": "cdad3046",
   "metadata": {},
   "outputs": [
    {
     "data": {
      "text/plain": [
       "<AxesSubplot:>"
      ]
     },
     "execution_count": 63,
     "metadata": {},
     "output_type": "execute_result"
    },
    {
     "data": {
      "image/png": "[encoded data removed]",
      "text/plain": [
       "<Figure size 640x480 with 2 Axes>"
      ]
     },
     "metadata": {},
     "output_type": "display_data"
    }
   ],
   "source": [
    "sns.heatmap(dfcol.corr(),annot=True)"
   ]
  },
  {
   "cell_type": "markdown",
   "id": "d1abb45f",
   "metadata": {},
   "source": [
    "### high positive co-rlation between Course_fee and Reviews, Negative co-relation between Reviews and Rating"
   ]
  },
  {
   "cell_type": "code",
   "execution_count": null,
   "id": "b6012920",
   "metadata": {},
   "outputs": [],
   "source": []
  },
  {
   "cell_type": "code",
   "execution_count": null,
   "id": "4f0ee3dc",
   "metadata": {},
   "outputs": [],
   "source": []
  }
 ],
 "metadata": {
  "kernelspec": {
   "display_name": "Python 3 (ipykernel)",
   "language": "python",
   "name": "python3"
  },
  "language_info": {
   "codemirror_mode": {
    "name": "ipython",
    "version": 3
   },
   "file_extension": ".py",
   "mimetype": "text/x-python",
   "name": "python",
   "nbconvert_exporter": "python",
   "pygments_lexer": "ipython3",
   "version": "3.9.13"
  }
 },
 "nbformat": 4,
 "nbformat_minor": 5
}
